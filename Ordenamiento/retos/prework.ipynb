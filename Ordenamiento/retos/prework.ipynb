{
 "cells": [
  {
   "cell_type": "markdown",
   "metadata": {},
   "source": [
    "\n",
    "# Objetivo\n",
    "\n",
    "* Hacer casting de tipos de datos.\n",
    "* Manipular strings usando el módulo str.\n",
    "* Aplicar funciones custom a un DataFrame.\n",
    "* Aplicar filtros a nuestros datos.\n",
    "* Ordenar nuestro dataset por columnas."
   ]
  },
  {
   "cell_type": "markdown",
   "metadata": {},
   "source": [
    "## Casting"
   ]
  },
  {
   "cell_type": "code",
   "execution_count": 2,
   "metadata": {},
   "outputs": [],
   "source": [
    "import pandas as pd"
   ]
  },
  {
   "cell_type": "code",
   "execution_count": 3,
   "metadata": {},
   "outputs": [
    {
     "data": {
      "text/html": [
       "<div>\n",
       "<style scoped>\n",
       "    .dataframe tbody tr th:only-of-type {\n",
       "        vertical-align: middle;\n",
       "    }\n",
       "\n",
       "    .dataframe tbody tr th {\n",
       "        vertical-align: top;\n",
       "    }\n",
       "\n",
       "    .dataframe thead th {\n",
       "        text-align: right;\n",
       "    }\n",
       "</style>\n",
       "<table border=\"1\" class=\"dataframe\">\n",
       "  <thead>\n",
       "    <tr style=\"text-align: right;\">\n",
       "      <th></th>\n",
       "      <th>amazon_product_url</th>\n",
       "      <th>author</th>\n",
       "      <th>description</th>\n",
       "      <th>publisher</th>\n",
       "      <th>title</th>\n",
       "      <th>oid</th>\n",
       "      <th>bestsellers_date.numberLong</th>\n",
       "      <th>published_date.numberLong</th>\n",
       "      <th>rank.numberInt</th>\n",
       "      <th>rank_last_week.numberInt</th>\n",
       "      <th>weeks_on_list.numberInt</th>\n",
       "      <th>price.numberDouble</th>\n",
       "    </tr>\n",
       "  </thead>\n",
       "  <tbody>\n",
       "    <tr>\n",
       "      <th>0</th>\n",
       "      <td>http://www.amazon.com/The-Host-Novel-Stephenie...</td>\n",
       "      <td>Stephenie Meyer</td>\n",
       "      <td>Descr: Aliens have taken control of the minds ...</td>\n",
       "      <td>Little, Brown</td>\n",
       "      <td>THE HOST</td>\n",
       "      <td>5b4aa4ead3089013507db18c</td>\n",
       "      <td>2008-05-24 00:00:00</td>\n",
       "      <td>1212883200000</td>\n",
       "      <td>2</td>\n",
       "      <td>1</td>\n",
       "      <td>3</td>\n",
       "      <td>25.99</td>\n",
       "    </tr>\n",
       "    <tr>\n",
       "      <th>1</th>\n",
       "      <td>http://www.amazon.com/Love-Youre-With-Emily-Gi...</td>\n",
       "      <td>Emily Giffin</td>\n",
       "      <td>Descr: A woman's happy marriage is shaken when...</td>\n",
       "      <td>St. Martin's</td>\n",
       "      <td>LOVE THE ONE YOU'RE WITH</td>\n",
       "      <td>5b4aa4ead3089013507db18d</td>\n",
       "      <td>2008-05-24 00:00:00</td>\n",
       "      <td>1212883200000</td>\n",
       "      <td>3</td>\n",
       "      <td>2</td>\n",
       "      <td>2</td>\n",
       "      <td>24.95</td>\n",
       "    </tr>\n",
       "    <tr>\n",
       "      <th>2</th>\n",
       "      <td>http://www.amazon.com/The-Front-Garano-Patrici...</td>\n",
       "      <td>Patricia Cornwell</td>\n",
       "      <td>Descr: A Massachusetts state investigator and ...</td>\n",
       "      <td>Putnam</td>\n",
       "      <td>THE FRONT</td>\n",
       "      <td>5b4aa4ead3089013507db18e</td>\n",
       "      <td>2008-05-24 00:00:00</td>\n",
       "      <td>1212883200000</td>\n",
       "      <td>4</td>\n",
       "      <td>0</td>\n",
       "      <td>1</td>\n",
       "      <td>22.95</td>\n",
       "    </tr>\n",
       "    <tr>\n",
       "      <th>3</th>\n",
       "      <td>http://www.amazon.com/Snuff-Chuck-Palahniuk/dp...</td>\n",
       "      <td>Chuck Palahniuk</td>\n",
       "      <td>Descr: An aging porn queens aims to cap her ca...</td>\n",
       "      <td>Doubleday</td>\n",
       "      <td>SNUFF</td>\n",
       "      <td>5b4aa4ead3089013507db18f</td>\n",
       "      <td>2008-05-24 00:00:00</td>\n",
       "      <td>1212883200000</td>\n",
       "      <td>5</td>\n",
       "      <td>0</td>\n",
       "      <td>1</td>\n",
       "      <td>24.95</td>\n",
       "    </tr>\n",
       "    <tr>\n",
       "      <th>5</th>\n",
       "      <td>http://www.amazon.com/Phantom-Prey-John-Sandfo...</td>\n",
       "      <td>John Sandford</td>\n",
       "      <td>Descr: The Minneapolis detective Lucas Davenpo...</td>\n",
       "      <td>Putnam</td>\n",
       "      <td>PHANTOM PREY</td>\n",
       "      <td>5b4aa4ead3089013507db191</td>\n",
       "      <td>2008-05-24 00:00:00</td>\n",
       "      <td>1212883200000</td>\n",
       "      <td>7</td>\n",
       "      <td>4</td>\n",
       "      <td>3</td>\n",
       "      <td>26.95</td>\n",
       "    </tr>\n",
       "  </tbody>\n",
       "</table>\n",
       "</div>"
      ],
      "text/plain": [
       "                                  amazon_product_url             author  \\\n",
       "0  http://www.amazon.com/The-Host-Novel-Stephenie...    Stephenie Meyer   \n",
       "1  http://www.amazon.com/Love-Youre-With-Emily-Gi...       Emily Giffin   \n",
       "2  http://www.amazon.com/The-Front-Garano-Patrici...  Patricia Cornwell   \n",
       "3  http://www.amazon.com/Snuff-Chuck-Palahniuk/dp...    Chuck Palahniuk   \n",
       "5  http://www.amazon.com/Phantom-Prey-John-Sandfo...      John Sandford   \n",
       "\n",
       "                                         description      publisher  \\\n",
       "0  Descr: Aliens have taken control of the minds ...  Little, Brown   \n",
       "1  Descr: A woman's happy marriage is shaken when...   St. Martin's   \n",
       "2  Descr: A Massachusetts state investigator and ...         Putnam   \n",
       "3  Descr: An aging porn queens aims to cap her ca...      Doubleday   \n",
       "5  Descr: The Minneapolis detective Lucas Davenpo...         Putnam   \n",
       "\n",
       "                      title                       oid  \\\n",
       "0                  THE HOST  5b4aa4ead3089013507db18c   \n",
       "1  LOVE THE ONE YOU'RE WITH  5b4aa4ead3089013507db18d   \n",
       "2                 THE FRONT  5b4aa4ead3089013507db18e   \n",
       "3                     SNUFF  5b4aa4ead3089013507db18f   \n",
       "5              PHANTOM PREY  5b4aa4ead3089013507db191   \n",
       "\n",
       "  bestsellers_date.numberLong  published_date.numberLong rank.numberInt  \\\n",
       "0         2008-05-24 00:00:00              1212883200000              2   \n",
       "1         2008-05-24 00:00:00              1212883200000              3   \n",
       "2         2008-05-24 00:00:00              1212883200000              4   \n",
       "3         2008-05-24 00:00:00              1212883200000              5   \n",
       "5         2008-05-24 00:00:00              1212883200000              7   \n",
       "\n",
       "   rank_last_week.numberInt  weeks_on_list.numberInt  price.numberDouble  \n",
       "0                         1                        3               25.99  \n",
       "1                         2                        2               24.95  \n",
       "2                         0                        1               22.95  \n",
       "3                         0                        1               24.95  \n",
       "5                         4                        3               26.95  "
      ]
     },
     "execution_count": 3,
     "metadata": {},
     "output_type": "execute_result"
    }
   ],
   "source": [
    "## Casting\n",
    "df = pd.read_csv('C:/Users/diana/OneDrive/Documents/Formacion/Cursos/BEDU/Repositorios/ProcesamientoDeDatos/S01/Data-Manipulation/Datasets/new_york_times_bestsellers-dirty.csv', index_col=0)\n",
    "df.head()"
   ]
  },
  {
   "cell_type": "code",
   "execution_count": 4,
   "metadata": {},
   "outputs": [
    {
     "data": {
      "text/plain": [
       "amazon_product_url              object\n",
       "author                          object\n",
       "description                     object\n",
       "publisher                       object\n",
       "title                           object\n",
       "oid                             object\n",
       "bestsellers_date.numberLong     object\n",
       "published_date.numberLong        int64\n",
       "rank.numberInt                  object\n",
       "rank_last_week.numberInt         int64\n",
       "weeks_on_list.numberInt          int64\n",
       "price.numberDouble             float64\n",
       "dtype: object"
      ]
     },
     "execution_count": 4,
     "metadata": {},
     "output_type": "execute_result"
    }
   ],
   "source": [
    "df.dtypes"
   ]
  },
  {
   "cell_type": "markdown",
   "metadata": {},
   "source": [
    "**Que esta mal?**\n",
    "* price.numberDouble es tipo object y debería de ser float.\n",
    "* rank.numberInt es tipo object y debería de ser int.\n",
    "* bestsellers_date.numberLong y published_date.numberLong son tipo object e int64 respectivamente, mientras que deberían de ser algún tipo de dato de  fecha y tiempo."
   ]
  },
  {
   "cell_type": "markdown",
   "metadata": {},
   "source": [
    "## Metodos de transformacion de datos numericos"
   ]
  },
  {
   "cell_type": "markdown",
   "metadata": {},
   "source": [
    "### Astype"
   ]
  },
  {
   "cell_type": "code",
   "execution_count": 5,
   "metadata": {},
   "outputs": [
    {
     "data": {
      "text/plain": [
       "0       25.99\n",
       "1       24.95\n",
       "2       22.95\n",
       "3       24.95\n",
       "5       26.95\n",
       "        ...  \n",
       "3027    26.95\n",
       "3028    27.95\n",
       "3029    27.95\n",
       "3030    26.95\n",
       "3031    28.99\n",
       "Name: price.numberDouble, Length: 2266, dtype: float64"
      ]
     },
     "execution_count": 5,
     "metadata": {},
     "output_type": "execute_result"
    }
   ],
   "source": [
    "#Transformar los datos a float64\n",
    "df['price.numberDouble'].astype(float)"
   ]
  },
  {
   "cell_type": "code",
   "execution_count": 6,
   "metadata": {},
   "outputs": [],
   "source": [
    "# Reasignar el resultado a la columna original\n",
    "df['price.numberDouble'] = df['price.numberDouble'].astype(float)"
   ]
  },
  {
   "cell_type": "code",
   "execution_count": 7,
   "metadata": {},
   "outputs": [
    {
     "data": {
      "text/plain": [
       "amazon_product_url              object\n",
       "author                          object\n",
       "description                     object\n",
       "publisher                       object\n",
       "title                           object\n",
       "oid                             object\n",
       "bestsellers_date.numberLong     object\n",
       "published_date.numberLong        int64\n",
       "rank.numberInt                  object\n",
       "rank_last_week.numberInt         int64\n",
       "weeks_on_list.numberInt          int64\n",
       "price.numberDouble             float64\n",
       "dtype: object"
      ]
     },
     "execution_count": 7,
     "metadata": {},
     "output_type": "execute_result"
    }
   ],
   "source": [
    "df.dtypes"
   ]
  },
  {
   "cell_type": "markdown",
   "metadata": {},
   "source": [
    "#### Metodo Aspype multiple"
   ]
  },
  {
   "cell_type": "markdown",
   "metadata": {},
   "source": [
    "Podemos escribir un diccionario que sea un mapa entre las columnas que queremos transformar y el tipo de dato al que queremos transformarlas"
   ]
  },
  {
   "cell_type": "code",
   "execution_count": 8,
   "metadata": {},
   "outputs": [
    {
     "data": {
      "text/plain": [
       "amazon_product_url              object\n",
       "author                          object\n",
       "description                     object\n",
       "publisher                       object\n",
       "title                           object\n",
       "oid                             object\n",
       "bestsellers_date.numberLong     object\n",
       "published_date.numberLong        int64\n",
       "rank.numberInt                  object\n",
       "rank_last_week.numberInt         int32\n",
       "weeks_on_list.numberInt          int32\n",
       "price.numberDouble             float64\n",
       "dtype: object"
      ]
     },
     "execution_count": 8,
     "metadata": {},
     "output_type": "execute_result"
    }
   ],
   "source": [
    "diccionario_casting = {\n",
    "    'rank_last_week.numberInt': int,\n",
    "    'weeks_on_list.numberInt': int,\n",
    "    'price.numberDouble': float\n",
    "}\n",
    "#Astype\n",
    "df.astype(diccionario_casting).dtypes\n",
    "#Reasignar el DataFrame\n",
    "df= df.astype(diccionario_casting)\n",
    "\n",
    "df.dtypes"
   ]
  },
  {
   "cell_type": "code",
   "execution_count": 9,
   "metadata": {},
   "outputs": [
    {
     "ename": "ValueError",
     "evalue": "invalid literal for int() with base 10: 'No Rank'",
     "output_type": "error",
     "traceback": [
      "\u001b[1;31m---------------------------------------------------------------------------\u001b[0m",
      "\u001b[1;31mValueError\u001b[0m                                Traceback (most recent call last)",
      "\u001b[1;32mc:\\Users\\diana\\OneDrive\\Documents\\Formacion\\Cursos\\BEDU\\Repositorios\\ProcesamientoDeDatos\\S01\\Data-Manipulation\\Ordenamiento\\retos\\prework.ipynb Cell 15\u001b[0m line \u001b[0;36m2\n\u001b[0;32m      <a href='vscode-notebook-cell:/c%3A/Users/diana/OneDrive/Documents/Formacion/Cursos/BEDU/Repositorios/ProcesamientoDeDatos/S01/Data-Manipulation/Ordenamiento/retos/prework.ipynb#X20sZmlsZQ%3D%3D?line=0'>1</a>\u001b[0m \u001b[39m#Convertir a int\u001b[39;00m\n\u001b[1;32m----> <a href='vscode-notebook-cell:/c%3A/Users/diana/OneDrive/Documents/Formacion/Cursos/BEDU/Repositorios/ProcesamientoDeDatos/S01/Data-Manipulation/Ordenamiento/retos/prework.ipynb#X20sZmlsZQ%3D%3D?line=1'>2</a>\u001b[0m df[\u001b[39m'\u001b[39;49m\u001b[39mrank.numberInt\u001b[39;49m\u001b[39m'\u001b[39;49m]\u001b[39m.\u001b[39;49mastype(\u001b[39mint\u001b[39;49m)\n",
      "File \u001b[1;32m~\\AppData\\Roaming\\Python\\Python310\\site-packages\\pandas\\core\\generic.py:6534\u001b[0m, in \u001b[0;36mNDFrame.astype\u001b[1;34m(self, dtype, copy, errors)\u001b[0m\n\u001b[0;32m   6530\u001b[0m     results \u001b[39m=\u001b[39m [ser\u001b[39m.\u001b[39mastype(dtype, copy\u001b[39m=\u001b[39mcopy) \u001b[39mfor\u001b[39;00m _, ser \u001b[39min\u001b[39;00m \u001b[39mself\u001b[39m\u001b[39m.\u001b[39mitems()]\n\u001b[0;32m   6532\u001b[0m \u001b[39melse\u001b[39;00m:\n\u001b[0;32m   6533\u001b[0m     \u001b[39m# else, only a single dtype is given\u001b[39;00m\n\u001b[1;32m-> 6534\u001b[0m     new_data \u001b[39m=\u001b[39m \u001b[39mself\u001b[39;49m\u001b[39m.\u001b[39;49m_mgr\u001b[39m.\u001b[39;49mastype(dtype\u001b[39m=\u001b[39;49mdtype, copy\u001b[39m=\u001b[39;49mcopy, errors\u001b[39m=\u001b[39;49merrors)\n\u001b[0;32m   6535\u001b[0m     res \u001b[39m=\u001b[39m \u001b[39mself\u001b[39m\u001b[39m.\u001b[39m_constructor_from_mgr(new_data, axes\u001b[39m=\u001b[39mnew_data\u001b[39m.\u001b[39maxes)\n\u001b[0;32m   6536\u001b[0m     \u001b[39mreturn\u001b[39;00m res\u001b[39m.\u001b[39m__finalize__(\u001b[39mself\u001b[39m, method\u001b[39m=\u001b[39m\u001b[39m\"\u001b[39m\u001b[39mastype\u001b[39m\u001b[39m\"\u001b[39m)\n",
      "File \u001b[1;32m~\\AppData\\Roaming\\Python\\Python310\\site-packages\\pandas\\core\\internals\\managers.py:414\u001b[0m, in \u001b[0;36mBaseBlockManager.astype\u001b[1;34m(self, dtype, copy, errors)\u001b[0m\n\u001b[0;32m    411\u001b[0m \u001b[39melif\u001b[39;00m using_copy_on_write():\n\u001b[0;32m    412\u001b[0m     copy \u001b[39m=\u001b[39m \u001b[39mFalse\u001b[39;00m\n\u001b[1;32m--> 414\u001b[0m \u001b[39mreturn\u001b[39;00m \u001b[39mself\u001b[39;49m\u001b[39m.\u001b[39;49mapply(\n\u001b[0;32m    415\u001b[0m     \u001b[39m\"\u001b[39;49m\u001b[39mastype\u001b[39;49m\u001b[39m\"\u001b[39;49m,\n\u001b[0;32m    416\u001b[0m     dtype\u001b[39m=\u001b[39;49mdtype,\n\u001b[0;32m    417\u001b[0m     copy\u001b[39m=\u001b[39;49mcopy,\n\u001b[0;32m    418\u001b[0m     errors\u001b[39m=\u001b[39;49merrors,\n\u001b[0;32m    419\u001b[0m     using_cow\u001b[39m=\u001b[39;49musing_copy_on_write(),\n\u001b[0;32m    420\u001b[0m )\n",
      "File \u001b[1;32m~\\AppData\\Roaming\\Python\\Python310\\site-packages\\pandas\\core\\internals\\managers.py:354\u001b[0m, in \u001b[0;36mBaseBlockManager.apply\u001b[1;34m(self, f, align_keys, **kwargs)\u001b[0m\n\u001b[0;32m    352\u001b[0m         applied \u001b[39m=\u001b[39m b\u001b[39m.\u001b[39mapply(f, \u001b[39m*\u001b[39m\u001b[39m*\u001b[39mkwargs)\n\u001b[0;32m    353\u001b[0m     \u001b[39melse\u001b[39;00m:\n\u001b[1;32m--> 354\u001b[0m         applied \u001b[39m=\u001b[39m \u001b[39mgetattr\u001b[39m(b, f)(\u001b[39m*\u001b[39m\u001b[39m*\u001b[39mkwargs)\n\u001b[0;32m    355\u001b[0m     result_blocks \u001b[39m=\u001b[39m extend_blocks(applied, result_blocks)\n\u001b[0;32m    357\u001b[0m out \u001b[39m=\u001b[39m \u001b[39mtype\u001b[39m(\u001b[39mself\u001b[39m)\u001b[39m.\u001b[39mfrom_blocks(result_blocks, \u001b[39mself\u001b[39m\u001b[39m.\u001b[39maxes)\n",
      "File \u001b[1;32m~\\AppData\\Roaming\\Python\\Python310\\site-packages\\pandas\\core\\internals\\blocks.py:616\u001b[0m, in \u001b[0;36mBlock.astype\u001b[1;34m(self, dtype, copy, errors, using_cow)\u001b[0m\n\u001b[0;32m    596\u001b[0m \u001b[39m\u001b[39m\u001b[39m\"\"\"\u001b[39;00m\n\u001b[0;32m    597\u001b[0m \u001b[39mCoerce to the new dtype.\u001b[39;00m\n\u001b[0;32m    598\u001b[0m \n\u001b[1;32m   (...)\u001b[0m\n\u001b[0;32m    612\u001b[0m \u001b[39mBlock\u001b[39;00m\n\u001b[0;32m    613\u001b[0m \u001b[39m\"\"\"\u001b[39;00m\n\u001b[0;32m    614\u001b[0m values \u001b[39m=\u001b[39m \u001b[39mself\u001b[39m\u001b[39m.\u001b[39mvalues\n\u001b[1;32m--> 616\u001b[0m new_values \u001b[39m=\u001b[39m astype_array_safe(values, dtype, copy\u001b[39m=\u001b[39;49mcopy, errors\u001b[39m=\u001b[39;49merrors)\n\u001b[0;32m    618\u001b[0m new_values \u001b[39m=\u001b[39m maybe_coerce_values(new_values)\n\u001b[0;32m    620\u001b[0m refs \u001b[39m=\u001b[39m \u001b[39mNone\u001b[39;00m\n",
      "File \u001b[1;32m~\\AppData\\Roaming\\Python\\Python310\\site-packages\\pandas\\core\\dtypes\\astype.py:238\u001b[0m, in \u001b[0;36mastype_array_safe\u001b[1;34m(values, dtype, copy, errors)\u001b[0m\n\u001b[0;32m    235\u001b[0m     dtype \u001b[39m=\u001b[39m dtype\u001b[39m.\u001b[39mnumpy_dtype\n\u001b[0;32m    237\u001b[0m \u001b[39mtry\u001b[39;00m:\n\u001b[1;32m--> 238\u001b[0m     new_values \u001b[39m=\u001b[39m astype_array(values, dtype, copy\u001b[39m=\u001b[39;49mcopy)\n\u001b[0;32m    239\u001b[0m \u001b[39mexcept\u001b[39;00m (\u001b[39mValueError\u001b[39;00m, \u001b[39mTypeError\u001b[39;00m):\n\u001b[0;32m    240\u001b[0m     \u001b[39m# e.g. _astype_nansafe can fail on object-dtype of strings\u001b[39;00m\n\u001b[0;32m    241\u001b[0m     \u001b[39m#  trying to convert to float\u001b[39;00m\n\u001b[0;32m    242\u001b[0m     \u001b[39mif\u001b[39;00m errors \u001b[39m==\u001b[39m \u001b[39m\"\u001b[39m\u001b[39mignore\u001b[39m\u001b[39m\"\u001b[39m:\n",
      "File \u001b[1;32m~\\AppData\\Roaming\\Python\\Python310\\site-packages\\pandas\\core\\dtypes\\astype.py:183\u001b[0m, in \u001b[0;36mastype_array\u001b[1;34m(values, dtype, copy)\u001b[0m\n\u001b[0;32m    180\u001b[0m     values \u001b[39m=\u001b[39m values\u001b[39m.\u001b[39mastype(dtype, copy\u001b[39m=\u001b[39mcopy)\n\u001b[0;32m    182\u001b[0m \u001b[39melse\u001b[39;00m:\n\u001b[1;32m--> 183\u001b[0m     values \u001b[39m=\u001b[39m _astype_nansafe(values, dtype, copy\u001b[39m=\u001b[39;49mcopy)\n\u001b[0;32m    185\u001b[0m \u001b[39m# in pandas we don't store numpy str dtypes, so convert to object\u001b[39;00m\n\u001b[0;32m    186\u001b[0m \u001b[39mif\u001b[39;00m \u001b[39misinstance\u001b[39m(dtype, np\u001b[39m.\u001b[39mdtype) \u001b[39mand\u001b[39;00m \u001b[39missubclass\u001b[39m(values\u001b[39m.\u001b[39mdtype\u001b[39m.\u001b[39mtype, \u001b[39mstr\u001b[39m):\n",
      "File \u001b[1;32m~\\AppData\\Roaming\\Python\\Python310\\site-packages\\pandas\\core\\dtypes\\astype.py:134\u001b[0m, in \u001b[0;36m_astype_nansafe\u001b[1;34m(arr, dtype, copy, skipna)\u001b[0m\n\u001b[0;32m    130\u001b[0m     \u001b[39mraise\u001b[39;00m \u001b[39mValueError\u001b[39;00m(msg)\n\u001b[0;32m    132\u001b[0m \u001b[39mif\u001b[39;00m copy \u001b[39mor\u001b[39;00m arr\u001b[39m.\u001b[39mdtype \u001b[39m==\u001b[39m \u001b[39mobject\u001b[39m \u001b[39mor\u001b[39;00m dtype \u001b[39m==\u001b[39m \u001b[39mobject\u001b[39m:\n\u001b[0;32m    133\u001b[0m     \u001b[39m# Explicit copy, or required since NumPy can't view from / to object.\u001b[39;00m\n\u001b[1;32m--> 134\u001b[0m     \u001b[39mreturn\u001b[39;00m arr\u001b[39m.\u001b[39;49mastype(dtype, copy\u001b[39m=\u001b[39;49m\u001b[39mTrue\u001b[39;49;00m)\n\u001b[0;32m    136\u001b[0m \u001b[39mreturn\u001b[39;00m arr\u001b[39m.\u001b[39mastype(dtype, copy\u001b[39m=\u001b[39mcopy)\n",
      "\u001b[1;31mValueError\u001b[0m: invalid literal for int() with base 10: 'No Rank'"
     ]
    }
   ],
   "source": [
    "#Convertir a int\n",
    "df['rank.numberInt'].astype(int)"
   ]
  },
  {
   "cell_type": "markdown",
   "metadata": {},
   "source": [
    "El error menciona la existencia de datos 'No Rank' los cuales son de tipo string por lo que no pueden ser convertidos a int.\n",
    "Cuando hay datos que no pueden ser transformados al tipo que queremos, necesitamos usar otro método."
   ]
  },
  {
   "cell_type": "markdown",
   "metadata": {},
   "source": [
    "### To_numeric"
   ]
  },
  {
   "cell_type": "markdown",
   "metadata": {},
   "source": [
    "Para convertir datos a datos numéricos tenemos to_numeric."
   ]
  },
  {
   "cell_type": "code",
   "execution_count": 10,
   "metadata": {},
   "outputs": [
    {
     "data": {
      "text/html": [
       "<div>\n",
       "<style scoped>\n",
       "    .dataframe tbody tr th:only-of-type {\n",
       "        vertical-align: middle;\n",
       "    }\n",
       "\n",
       "    .dataframe tbody tr th {\n",
       "        vertical-align: top;\n",
       "    }\n",
       "\n",
       "    .dataframe thead th {\n",
       "        text-align: right;\n",
       "    }\n",
       "</style>\n",
       "<table border=\"1\" class=\"dataframe\">\n",
       "  <thead>\n",
       "    <tr style=\"text-align: right;\">\n",
       "      <th></th>\n",
       "      <th>amazon_product_url</th>\n",
       "      <th>author</th>\n",
       "      <th>description</th>\n",
       "      <th>publisher</th>\n",
       "      <th>title</th>\n",
       "      <th>oid</th>\n",
       "      <th>bestsellers_date.numberLong</th>\n",
       "      <th>published_date.numberLong</th>\n",
       "      <th>rank.numberInt</th>\n",
       "      <th>rank_last_week.numberInt</th>\n",
       "      <th>weeks_on_list.numberInt</th>\n",
       "      <th>price.numberDouble</th>\n",
       "    </tr>\n",
       "  </thead>\n",
       "  <tbody>\n",
       "    <tr>\n",
       "      <th>13</th>\n",
       "      <td>http://www.amazon.com/The-Host-Novel-Stephenie...</td>\n",
       "      <td>Stephenie Meyer</td>\n",
       "      <td>Descr: Aliens have taken control of the minds ...</td>\n",
       "      <td>Little, Brown</td>\n",
       "      <td>THE HOST</td>\n",
       "      <td>5b4aa4ead3089013507db1a0</td>\n",
       "      <td>2008-05-31 00:00:00</td>\n",
       "      <td>1213488000000</td>\n",
       "      <td>No Rank</td>\n",
       "      <td>2</td>\n",
       "      <td>4</td>\n",
       "      <td>25.99</td>\n",
       "    </tr>\n",
       "    <tr>\n",
       "      <th>72</th>\n",
       "      <td>http://www.amazon.com/The-Broken-Window-Lincol...</td>\n",
       "      <td>Jeffery Deaver</td>\n",
       "      <td>Descr: Detectives Lincoln Rhyme and Amelia Sac...</td>\n",
       "      <td>Simon &amp; Schuster</td>\n",
       "      <td>THE BROKEN WINDOW</td>\n",
       "      <td>5b4aa4ead3089013507db1fa</td>\n",
       "      <td>2008-06-28 00:00:00</td>\n",
       "      <td>1215907200000</td>\n",
       "      <td>No Rank</td>\n",
       "      <td>8</td>\n",
       "      <td>3</td>\n",
       "      <td>26.95</td>\n",
       "    </tr>\n",
       "    <tr>\n",
       "      <th>133</th>\n",
       "      <td>http://www.amazon.com/Fearless-Fourteen-Janet-...</td>\n",
       "      <td>Janet Evanovich</td>\n",
       "      <td>Descr: Stephanie Plum and her boyfriend Joe Mo...</td>\n",
       "      <td>St. Martin’s</td>\n",
       "      <td>FEARLESS FOURTEEN</td>\n",
       "      <td>5b4aa4ead3089013507db25e</td>\n",
       "      <td>2008-08-02 00:00:00</td>\n",
       "      <td>1218931200000</td>\n",
       "      <td>No Rank</td>\n",
       "      <td>9</td>\n",
       "      <td>7</td>\n",
       "      <td>27.95</td>\n",
       "    </tr>\n",
       "    <tr>\n",
       "      <th>154</th>\n",
       "      <td>http://www.amazon.com/The-Mercedes-Coffin-Deck...</td>\n",
       "      <td>Faye Kellerman</td>\n",
       "      <td>Descr: Decker and Lazarus investigate cases of...</td>\n",
       "      <td>Morrow</td>\n",
       "      <td>THE MERCEDES COFFIN</td>\n",
       "      <td>5b4aa4ead3089013507db282</td>\n",
       "      <td>2008-08-16 00:00:00</td>\n",
       "      <td>1220140800000</td>\n",
       "      <td>No Rank</td>\n",
       "      <td>0</td>\n",
       "      <td>1</td>\n",
       "      <td>25.95</td>\n",
       "    </tr>\n",
       "    <tr>\n",
       "      <th>158</th>\n",
       "      <td>http://www.amazon.com/Foreign-Body-Robin-Cook/...</td>\n",
       "      <td>Robin Cook</td>\n",
       "      <td>Descr: A medical student investigates a rising...</td>\n",
       "      <td>Putnam</td>\n",
       "      <td>FOREIGN BODY</td>\n",
       "      <td>5b4aa4ead3089013507db287</td>\n",
       "      <td>2008-08-16 00:00:00</td>\n",
       "      <td>1220140800000</td>\n",
       "      <td>No Rank</td>\n",
       "      <td>9</td>\n",
       "      <td>2</td>\n",
       "      <td>25.95</td>\n",
       "    </tr>\n",
       "    <tr>\n",
       "      <th>...</th>\n",
       "      <td>...</td>\n",
       "      <td>...</td>\n",
       "      <td>...</td>\n",
       "      <td>...</td>\n",
       "      <td>...</td>\n",
       "      <td>...</td>\n",
       "      <td>...</td>\n",
       "      <td>...</td>\n",
       "      <td>...</td>\n",
       "      <td>...</td>\n",
       "      <td>...</td>\n",
       "      <td>...</td>\n",
       "    </tr>\n",
       "    <tr>\n",
       "      <th>2920</th>\n",
       "      <td>http://www.amazon.com/Twelve-Digital-Edition-V...</td>\n",
       "      <td>Ayana Mathis</td>\n",
       "      <td>Descr: Fifty-some years in the life of an Afri...</td>\n",
       "      <td>Knopf</td>\n",
       "      <td>THE TWELVE TRIBES OF HATTIE</td>\n",
       "      <td>5b4aa4ead3089013507dc4cb</td>\n",
       "      <td>2013-02-09 00:00:00</td>\n",
       "      <td>1361664000000</td>\n",
       "      <td>No Rank</td>\n",
       "      <td>14</td>\n",
       "      <td>9</td>\n",
       "      <td>24.95</td>\n",
       "    </tr>\n",
       "    <tr>\n",
       "      <th>2942</th>\n",
       "      <td>http://www.amazon.com/The-Sound-Broken-Glass-K...</td>\n",
       "      <td>Deborah Crombie</td>\n",
       "      <td>Descr: Detectives Gemma Jones and her husband,...</td>\n",
       "      <td>Morrow/HarperCollins</td>\n",
       "      <td>THE SOUND OF BROKEN GLASS</td>\n",
       "      <td>5b4aa4ead3089013507dc4f3</td>\n",
       "      <td>2013-02-23 00:00:00</td>\n",
       "      <td>1362873600000</td>\n",
       "      <td>No Rank</td>\n",
       "      <td>0</td>\n",
       "      <td>1</td>\n",
       "      <td>25.99</td>\n",
       "    </tr>\n",
       "    <tr>\n",
       "      <th>2952</th>\n",
       "      <td>http://www.amazon.com/A-Week-Winter-Maeve-Binc...</td>\n",
       "      <td>Maeve Binchy</td>\n",
       "      <td>Descr: Guests at an inn by the sea on Ireland’...</td>\n",
       "      <td>Knopf</td>\n",
       "      <td>A WEEK IN WINTER</td>\n",
       "      <td>5b4aa4ead3089013507dc503</td>\n",
       "      <td>2013-03-02 00:00:00</td>\n",
       "      <td>1363478400000</td>\n",
       "      <td>No Rank</td>\n",
       "      <td>2</td>\n",
       "      <td>3</td>\n",
       "      <td>26.95</td>\n",
       "    </tr>\n",
       "    <tr>\n",
       "      <th>2961</th>\n",
       "      <td>http://www.amazon.com/The-Storyteller-Jodi-Pic...</td>\n",
       "      <td>Jodi Picoult</td>\n",
       "      <td>Descr: A New Hampshire baker finds herself in ...</td>\n",
       "      <td>Emily Bestler/Atria</td>\n",
       "      <td>THE STORYTELLER</td>\n",
       "      <td>5b4aa4ead3089013507dc515</td>\n",
       "      <td>2013-03-09 00:00:00</td>\n",
       "      <td>1364083200000</td>\n",
       "      <td>No Rank</td>\n",
       "      <td>2</td>\n",
       "      <td>2</td>\n",
       "      <td>28.99</td>\n",
       "    </tr>\n",
       "    <tr>\n",
       "      <th>3021</th>\n",
       "      <td>http://www.amazon.com/Alex-Cross-Run-James-Pat...</td>\n",
       "      <td>James Patterson</td>\n",
       "      <td>Descr: While Alex Cross pursues a Washington s...</td>\n",
       "      <td>Little, Brown</td>\n",
       "      <td>ALEX CROSS, RUN</td>\n",
       "      <td>5b4aa4ead3089013507dc586</td>\n",
       "      <td>2013-04-13 00:00:00</td>\n",
       "      <td>1367107200000</td>\n",
       "      <td>No Rank</td>\n",
       "      <td>11</td>\n",
       "      <td>8</td>\n",
       "      <td>28.99</td>\n",
       "    </tr>\n",
       "  </tbody>\n",
       "</table>\n",
       "<p>220 rows × 12 columns</p>\n",
       "</div>"
      ],
      "text/plain": [
       "                                     amazon_product_url           author  \\\n",
       "13    http://www.amazon.com/The-Host-Novel-Stephenie...  Stephenie Meyer   \n",
       "72    http://www.amazon.com/The-Broken-Window-Lincol...   Jeffery Deaver   \n",
       "133   http://www.amazon.com/Fearless-Fourteen-Janet-...  Janet Evanovich   \n",
       "154   http://www.amazon.com/The-Mercedes-Coffin-Deck...   Faye Kellerman   \n",
       "158   http://www.amazon.com/Foreign-Body-Robin-Cook/...       Robin Cook   \n",
       "...                                                 ...              ...   \n",
       "2920  http://www.amazon.com/Twelve-Digital-Edition-V...     Ayana Mathis   \n",
       "2942  http://www.amazon.com/The-Sound-Broken-Glass-K...  Deborah Crombie   \n",
       "2952  http://www.amazon.com/A-Week-Winter-Maeve-Binc...     Maeve Binchy   \n",
       "2961  http://www.amazon.com/The-Storyteller-Jodi-Pic...     Jodi Picoult   \n",
       "3021  http://www.amazon.com/Alex-Cross-Run-James-Pat...  James Patterson   \n",
       "\n",
       "                                            description             publisher  \\\n",
       "13    Descr: Aliens have taken control of the minds ...         Little, Brown   \n",
       "72    Descr: Detectives Lincoln Rhyme and Amelia Sac...      Simon & Schuster   \n",
       "133   Descr: Stephanie Plum and her boyfriend Joe Mo...          St. Martin’s   \n",
       "154   Descr: Decker and Lazarus investigate cases of...                Morrow   \n",
       "158   Descr: A medical student investigates a rising...                Putnam   \n",
       "...                                                 ...                   ...   \n",
       "2920  Descr: Fifty-some years in the life of an Afri...                 Knopf   \n",
       "2942  Descr: Detectives Gemma Jones and her husband,...  Morrow/HarperCollins   \n",
       "2952  Descr: Guests at an inn by the sea on Ireland’...                 Knopf   \n",
       "2961  Descr: A New Hampshire baker finds herself in ...   Emily Bestler/Atria   \n",
       "3021  Descr: While Alex Cross pursues a Washington s...         Little, Brown   \n",
       "\n",
       "                            title                       oid  \\\n",
       "13                       THE HOST  5b4aa4ead3089013507db1a0   \n",
       "72              THE BROKEN WINDOW  5b4aa4ead3089013507db1fa   \n",
       "133             FEARLESS FOURTEEN  5b4aa4ead3089013507db25e   \n",
       "154           THE MERCEDES COFFIN  5b4aa4ead3089013507db282   \n",
       "158                  FOREIGN BODY  5b4aa4ead3089013507db287   \n",
       "...                           ...                       ...   \n",
       "2920  THE TWELVE TRIBES OF HATTIE  5b4aa4ead3089013507dc4cb   \n",
       "2942    THE SOUND OF BROKEN GLASS  5b4aa4ead3089013507dc4f3   \n",
       "2952             A WEEK IN WINTER  5b4aa4ead3089013507dc503   \n",
       "2961              THE STORYTELLER  5b4aa4ead3089013507dc515   \n",
       "3021              ALEX CROSS, RUN  5b4aa4ead3089013507dc586   \n",
       "\n",
       "     bestsellers_date.numberLong  published_date.numberLong rank.numberInt  \\\n",
       "13           2008-05-31 00:00:00              1213488000000        No Rank   \n",
       "72           2008-06-28 00:00:00              1215907200000        No Rank   \n",
       "133          2008-08-02 00:00:00              1218931200000        No Rank   \n",
       "154          2008-08-16 00:00:00              1220140800000        No Rank   \n",
       "158          2008-08-16 00:00:00              1220140800000        No Rank   \n",
       "...                          ...                        ...            ...   \n",
       "2920         2013-02-09 00:00:00              1361664000000        No Rank   \n",
       "2942         2013-02-23 00:00:00              1362873600000        No Rank   \n",
       "2952         2013-03-02 00:00:00              1363478400000        No Rank   \n",
       "2961         2013-03-09 00:00:00              1364083200000        No Rank   \n",
       "3021         2013-04-13 00:00:00              1367107200000        No Rank   \n",
       "\n",
       "      rank_last_week.numberInt  weeks_on_list.numberInt  price.numberDouble  \n",
       "13                           2                        4               25.99  \n",
       "72                           8                        3               26.95  \n",
       "133                          9                        7               27.95  \n",
       "154                          0                        1               25.95  \n",
       "158                          9                        2               25.95  \n",
       "...                        ...                      ...                 ...  \n",
       "2920                        14                        9               24.95  \n",
       "2942                         0                        1               25.99  \n",
       "2952                         2                        3               26.95  \n",
       "2961                         2                        2               28.99  \n",
       "3021                        11                        8               28.99  \n",
       "\n",
       "[220 rows x 12 columns]"
      ]
     },
     "execution_count": 10,
     "metadata": {},
     "output_type": "execute_result"
    }
   ],
   "source": [
    "# Aplicando un filtro\n",
    "df[df['rank.numberInt'] == 'No Rank']"
   ]
  },
  {
   "cell_type": "markdown",
   "metadata": {},
   "source": [
    "Para comenzar con la transformacion debemos  avisarle a nuestro método qué hacer con los datos que no pueden ser convertidos. Para esto usamos el argumento errors= y le pasamos una de 3 opciones:\n",
    "* 'ignore': Cuando encontremos un dato que no pueda ser convertido, simplemente regresamos el dato original (lo cual no queremos porque al final de cuenta el tipo de dato de la Serie va a ser object).\n",
    "* 'raise': Cuando no podamos convertir un dato, lancemos un error (esto es justo lo que acaba de suceder).\n",
    "* 'coerce': Cuando no podamos convertir un dato, lo convertimos a NaN y continuamos con la conversión"
   ]
  },
  {
   "cell_type": "code",
   "execution_count": 11,
   "metadata": {},
   "outputs": [
    {
     "data": {
      "text/plain": [
       "0        2.0\n",
       "1        3.0\n",
       "2        4.0\n",
       "3        5.0\n",
       "5        7.0\n",
       "        ... \n",
       "3027     8.0\n",
       "3028     9.0\n",
       "3029    11.0\n",
       "3030    13.0\n",
       "3031    14.0\n",
       "Name: rank.numberInt, Length: 2266, dtype: float64"
      ]
     },
     "execution_count": 11,
     "metadata": {},
     "output_type": "execute_result"
    }
   ],
   "source": [
    "pd.to_numeric(df['rank.numberInt'], errors='coerce')"
   ]
  },
  {
   "cell_type": "code",
   "execution_count": 12,
   "metadata": {},
   "outputs": [],
   "source": [
    "# Reasignamos a la columna original\n",
    "df['rank.numberInt'] = pd.to_numeric(df['rank.numberInt'], errors='coerce')"
   ]
  },
  {
   "cell_type": "code",
   "execution_count": 13,
   "metadata": {},
   "outputs": [],
   "source": [
    "#Ahora limpiamos los NaNs\n",
    "df = df.dropna(axis=0)\n",
    "#Reseteamos el indice\n",
    "df = df.reset_index(drop=True)"
   ]
  },
  {
   "cell_type": "code",
   "execution_count": 14,
   "metadata": {},
   "outputs": [
    {
     "data": {
      "text/plain": [
       "amazon_product_url              object\n",
       "author                          object\n",
       "description                     object\n",
       "publisher                       object\n",
       "title                           object\n",
       "oid                             object\n",
       "bestsellers_date.numberLong     object\n",
       "published_date.numberLong        int64\n",
       "rank.numberInt                   int32\n",
       "rank_last_week.numberInt         int32\n",
       "weeks_on_list.numberInt          int32\n",
       "price.numberDouble             float64\n",
       "dtype: object"
      ]
     },
     "execution_count": 14,
     "metadata": {},
     "output_type": "execute_result"
    }
   ],
   "source": [
    "# Conversion final a int con astype\n",
    "df['rank.numberInt'] = df['rank.numberInt'].astype(int)\n",
    "df.dtypes"
   ]
  },
  {
   "cell_type": "markdown",
   "metadata": {},
   "source": [
    "### Datetime64"
   ]
  },
  {
   "cell_type": "markdown",
   "metadata": {},
   "source": [
    "Utilizando objetos de este tipo puedes manipular fechas y horarios con muchísima flexibilidad [aquí puedes ver la documentación](https://pandas.pydata.org/pandas-docs/stable/user_guide/timeseries.html). Por lo pronto vamos a aprender simplemente cómo transformar datos en tipo datetime64. Esto puede lograrse muy fácilmente con el método to_datetime de pandas."
   ]
  },
  {
   "cell_type": "markdown",
   "metadata": {},
   "source": [
    "Hay dos tipos diferentes de fechas en nuestro DataFrame:\n",
    "* bestsellers_date.numberLong  es una string que representa la fecha junto con hora, minutos y segundos (aunque estos últimos están en ceros). \n",
    "* published_date.numberLong es un int que representa el número de milisegundos que han transcurrido desde la “Época\". La \"Época\" es la medianoche UTC del 1 de enero de 1970."
   ]
  },
  {
   "cell_type": "code",
   "execution_count": 15,
   "metadata": {},
   "outputs": [
    {
     "data": {
      "text/plain": [
       "0      2008-05-24\n",
       "1      2008-05-24\n",
       "2      2008-05-24\n",
       "3      2008-05-24\n",
       "4      2008-05-24\n",
       "          ...    \n",
       "2041   2013-04-20\n",
       "2042   2013-04-20\n",
       "2043   2013-04-20\n",
       "2044   2013-04-20\n",
       "2045   2013-04-20\n",
       "Name: bestsellers_date.numberLong, Length: 2046, dtype: datetime64[ns]"
      ]
     },
     "execution_count": 15,
     "metadata": {},
     "output_type": "execute_result"
    }
   ],
   "source": [
    "# Para bestsellers_date.numberLong\n",
    "pd.to_datetime(df['bestsellers_date.numberLong'])"
   ]
  },
  {
   "cell_type": "code",
   "execution_count": 16,
   "metadata": {},
   "outputs": [
    {
     "data": {
      "text/plain": [
       "0      2008-06-08\n",
       "1      2008-06-08\n",
       "2      2008-06-08\n",
       "3      2008-06-08\n",
       "4      2008-06-08\n",
       "          ...    \n",
       "2041   2013-05-05\n",
       "2042   2013-05-05\n",
       "2043   2013-05-05\n",
       "2044   2013-05-05\n",
       "2045   2013-05-05\n",
       "Name: published_date.numberLong, Length: 2046, dtype: datetime64[ns]"
      ]
     },
     "execution_count": 16,
     "metadata": {},
     "output_type": "execute_result"
    }
   ],
   "source": [
    "# Para published_date.numberLong\n",
    "#unit='ms' representa la unidad en milisegundos\n",
    "#El default es asumir que la fecha está representada en 'nanosegundos' desde \"la Época\"\n",
    "pd.to_datetime(df['published_date.numberLong'], unit='ms')"
   ]
  },
  {
   "cell_type": "code",
   "execution_count": 17,
   "metadata": {},
   "outputs": [
    {
     "data": {
      "text/plain": [
       "amazon_product_url                     object\n",
       "author                                 object\n",
       "description                            object\n",
       "publisher                              object\n",
       "title                                  object\n",
       "oid                                    object\n",
       "bestsellers_date.numberLong    datetime64[ns]\n",
       "published_date.numberLong      datetime64[ns]\n",
       "rank.numberInt                          int32\n",
       "rank_last_week.numberInt                int32\n",
       "weeks_on_list.numberInt                 int32\n",
       "price.numberDouble                    float64\n",
       "dtype: object"
      ]
     },
     "execution_count": 17,
     "metadata": {},
     "output_type": "execute_result"
    }
   ],
   "source": [
    "#Reasignar valores a la columna original\n",
    "df['bestsellers_date.numberLong'] = pd.to_datetime(df['bestsellers_date.numberLong'])\n",
    "df['published_date.numberLong'] = pd.to_datetime(df['published_date.numberLong'], unit='ms')\n",
    "\n",
    "df.dtypes"
   ]
  },
  {
   "cell_type": "code",
   "execution_count": 18,
   "metadata": {},
   "outputs": [],
   "source": [
    "# Por estica cambiamos el nombre de las columnas\n",
    "diccionario_renombramiento = {\n",
    "    'bestsellers_date.numberLong': 'bestsellers_date',\n",
    "    'published_date.numberLong': 'published_date',\n",
    "    'rank.numberInt': 'rank',\n",
    "    'rank_last_week.numberInt': 'rank_last_week',\n",
    "    'weeks_on_list.numberInt': 'weeks_on_list',\n",
    "    'price.numberDouble': 'price'\n",
    "}\n",
    "\n",
    "df = df.rename(columns=diccionario_renombramiento)"
   ]
  },
  {
   "cell_type": "markdown",
   "metadata": {},
   "source": [
    "## Manipulacion de String"
   ]
  },
  {
   "cell_type": "markdown",
   "metadata": {},
   "source": [
    "### Replace y strip"
   ]
  },
  {
   "cell_type": "markdown",
   "metadata": {},
   "source": [
    "Todas las strings comienzan con el texto 'Descr:' que es en realidad bastante redundante puesto que pertenecen a la columna description. Podemos remover esa parte del texto usando el método replace de la propiedad str de nuestra Serie.\n",
    "\n",
    "El método **replace** recibe la secuencia de caracteres que queremos buscar en nuestras strings y también la secuencia de caracteres que queremos usar para reemplazarla"
   ]
  },
  {
   "cell_type": "code",
   "execution_count": 19,
   "metadata": {},
   "outputs": [
    {
     "data": {
      "text/plain": [
       "0       Descr: Aliens have taken control of the minds ...\n",
       "1       Descr: A woman's happy marriage is shaken when...\n",
       "2       Descr: A Massachusetts state investigator and ...\n",
       "3       Descr: An aging porn queens aims to cap her ca...\n",
       "4       Descr: The Minneapolis detective Lucas Davenpo...\n",
       "                              ...                        \n",
       "2041    Descr: The New York lawyer Stone Barrington di...\n",
       "2042    Descr: Jake Fisher discovers that neither the ...\n",
       "2043    Descr: Six friends meet in the 1970s at a summ...\n",
       "2044    Descr: Bernie Gunther, the Berlin cop, is sent...\n",
       "2045    Descr: A New Hampshire baker finds herself in ...\n",
       "Name: description, Length: 2046, dtype: object"
      ]
     },
     "execution_count": 19,
     "metadata": {},
     "output_type": "execute_result"
    }
   ],
   "source": [
    "df['description']"
   ]
  },
  {
   "cell_type": "code",
   "execution_count": 20,
   "metadata": {},
   "outputs": [
    {
     "data": {
      "text/plain": [
       "0        Aliens have taken control of the minds and bo...\n",
       "1        A woman's happy marriage is shaken when she e...\n",
       "2        A Massachusetts state investigator and his te...\n",
       "3        An aging porn queens aims to cap her career b...\n",
       "4        The Minneapolis detective Lucas Davenport inv...\n",
       "                              ...                        \n",
       "2041     The New York lawyer Stone Barrington discover...\n",
       "2042     Jake Fisher discovers that neither the woman ...\n",
       "2043     Six friends meet in the 1970s at a summer art...\n",
       "2044     Bernie Gunther, the Berlin cop, is sent to Sm...\n",
       "2045     A New Hampshire baker finds herself in the mi...\n",
       "Name: description, Length: 2046, dtype: object"
      ]
     },
     "execution_count": 20,
     "metadata": {},
     "output_type": "execute_result"
    }
   ],
   "source": [
    "#Replace\n",
    "# Remplazar un caracter por otro\n",
    "df['description'].str.replace('Descr:','')"
   ]
  },
  {
   "cell_type": "code",
   "execution_count": 21,
   "metadata": {},
   "outputs": [],
   "source": [
    "#Reasignar tu resultado para modificar el DataFrame original\n",
    "df['description'] = df['description'].str.replace('Descr:','')"
   ]
  },
  {
   "cell_type": "code",
   "execution_count": 22,
   "metadata": {},
   "outputs": [
    {
     "data": {
      "text/plain": [
       "' Aliens have taken control of the minds and bodies of most humans, but one woman won’t surrender.     '"
      ]
     },
     "execution_count": 22,
     "metadata": {},
     "output_type": "execute_result"
    }
   ],
   "source": [
    "df.loc[0,'description']"
   ]
  },
  {
   "cell_type": "markdown",
   "metadata": {},
   "source": [
    "Contiene espacios al principio y al final"
   ]
  },
  {
   "cell_type": "code",
   "execution_count": 23,
   "metadata": {},
   "outputs": [],
   "source": [
    "#Strip\n",
    "#Remover espacios con str\n",
    "df['description'] = df['description'].str.strip()"
   ]
  },
  {
   "cell_type": "code",
   "execution_count": 24,
   "metadata": {},
   "outputs": [
    {
     "data": {
      "text/plain": [
       "'Aliens have taken control of the minds and bodies of most humans, but one woman won’t surrender.'"
      ]
     },
     "execution_count": 24,
     "metadata": {},
     "output_type": "execute_result"
    }
   ],
   "source": [
    "df.loc[0,'description']"
   ]
  },
  {
   "cell_type": "markdown",
   "metadata": {},
   "source": [
    "### Title"
   ]
  },
  {
   "cell_type": "markdown",
   "metadata": {},
   "source": [
    "'Title' convierte a mayúsculas la primera letra de cada palabra y a minúsculas el resto"
   ]
  },
  {
   "cell_type": "code",
   "execution_count": 25,
   "metadata": {},
   "outputs": [
    {
     "data": {
      "text/plain": [
       "0                       THE HOST\n",
       "1       LOVE THE ONE YOU'RE WITH\n",
       "2                      THE FRONT\n",
       "3                          SNUFF\n",
       "4                   PHANTOM PREY\n",
       "                  ...           \n",
       "2041     UNINTENDED CONSEQUENCES\n",
       "2042                   SIX YEARS\n",
       "2043            THE INTERESTINGS\n",
       "2044        A MAN WITHOUT BREATH\n",
       "2045             THE STORYTELLER\n",
       "Name: title, Length: 2046, dtype: object"
      ]
     },
     "execution_count": 25,
     "metadata": {},
     "output_type": "execute_result"
    }
   ],
   "source": [
    "df['title']"
   ]
  },
  {
   "cell_type": "code",
   "execution_count": 26,
   "metadata": {},
   "outputs": [
    {
     "data": {
      "text/plain": [
       "0                       The Host\n",
       "1       Love The One You'Re With\n",
       "2                      The Front\n",
       "3                          Snuff\n",
       "4                   Phantom Prey\n",
       "                  ...           \n",
       "2041     Unintended Consequences\n",
       "2042                   Six Years\n",
       "2043            The Interestings\n",
       "2044        A Man Without Breath\n",
       "2045             The Storyteller\n",
       "Name: title, Length: 2046, dtype: object"
      ]
     },
     "execution_count": 26,
     "metadata": {},
     "output_type": "execute_result"
    }
   ],
   "source": [
    "#Aplicando Title\n",
    "df['title'] = df['title'].str.title()\n",
    "df['title']"
   ]
  },
  {
   "cell_type": "markdown",
   "metadata": {},
   "source": [
    "### Upper"
   ]
  },
  {
   "cell_type": "markdown",
   "metadata": {},
   "source": [
    "upper convierte todo a mayúsculas"
   ]
  },
  {
   "cell_type": "code",
   "execution_count": 27,
   "metadata": {},
   "outputs": [
    {
     "data": {
      "text/plain": [
       "0                       THE HOST\n",
       "1       LOVE THE ONE YOU'RE WITH\n",
       "2                      THE FRONT\n",
       "3                          SNUFF\n",
       "4                   PHANTOM PREY\n",
       "                  ...           \n",
       "2041     UNINTENDED CONSEQUENCES\n",
       "2042                   SIX YEARS\n",
       "2043            THE INTERESTINGS\n",
       "2044        A MAN WITHOUT BREATH\n",
       "2045             THE STORYTELLER\n",
       "Name: title, Length: 2046, dtype: object"
      ]
     },
     "execution_count": 27,
     "metadata": {},
     "output_type": "execute_result"
    }
   ],
   "source": [
    "df['title'] = df['title'].str.upper()\n",
    "df['title']"
   ]
  },
  {
   "cell_type": "markdown",
   "metadata": {},
   "source": [
    "### Lower"
   ]
  },
  {
   "cell_type": "markdown",
   "metadata": {},
   "source": [
    "lower convierte todo a minúsculas."
   ]
  },
  {
   "cell_type": "code",
   "execution_count": 28,
   "metadata": {},
   "outputs": [
    {
     "data": {
      "text/plain": [
       "0                       the host\n",
       "1       love the one you're with\n",
       "2                      the front\n",
       "3                          snuff\n",
       "4                   phantom prey\n",
       "                  ...           \n",
       "2041     unintended consequences\n",
       "2042                   six years\n",
       "2043            the interestings\n",
       "2044        a man without breath\n",
       "2045             the storyteller\n",
       "Name: title, Length: 2046, dtype: object"
      ]
     },
     "execution_count": 28,
     "metadata": {},
     "output_type": "execute_result"
    }
   ],
   "source": [
    "df['title'] = df['title'].str.lower()\n",
    "df['title']"
   ]
  },
  {
   "cell_type": "markdown",
   "metadata": {},
   "source": [
    "### Split"
   ]
  },
  {
   "cell_type": "markdown",
   "metadata": {},
   "source": [
    "Dividir una string mediante un delimitador"
   ]
  },
  {
   "cell_type": "markdown",
   "metadata": {},
   "source": [
    "* Usamos el identificador regex \\s que significa \"espacios vacíos\" para encontrar todos los espacios vacíos y separar la string a partir de los hallazgos.\n",
    "* Para obtener dos columnas que contengan esos valores, en vez de una sola, podemos usar la bandera expand=True:"
   ]
  },
  {
   "cell_type": "code",
   "execution_count": 29,
   "metadata": {},
   "outputs": [
    {
     "data": {
      "text/html": [
       "<div>\n",
       "<style scoped>\n",
       "    .dataframe tbody tr th:only-of-type {\n",
       "        vertical-align: middle;\n",
       "    }\n",
       "\n",
       "    .dataframe tbody tr th {\n",
       "        vertical-align: top;\n",
       "    }\n",
       "\n",
       "    .dataframe thead th {\n",
       "        text-align: right;\n",
       "    }\n",
       "</style>\n",
       "<table border=\"1\" class=\"dataframe\">\n",
       "  <thead>\n",
       "    <tr style=\"text-align: right;\">\n",
       "      <th></th>\n",
       "      <th>0</th>\n",
       "    </tr>\n",
       "  </thead>\n",
       "  <tbody>\n",
       "    <tr>\n",
       "      <th>0</th>\n",
       "      <td>Stephenie Meyer</td>\n",
       "    </tr>\n",
       "    <tr>\n",
       "      <th>1</th>\n",
       "      <td>Emily Giffin</td>\n",
       "    </tr>\n",
       "    <tr>\n",
       "      <th>2</th>\n",
       "      <td>Patricia Cornwell</td>\n",
       "    </tr>\n",
       "    <tr>\n",
       "      <th>3</th>\n",
       "      <td>Chuck Palahniuk</td>\n",
       "    </tr>\n",
       "    <tr>\n",
       "      <th>4</th>\n",
       "      <td>John Sandford</td>\n",
       "    </tr>\n",
       "    <tr>\n",
       "      <th>...</th>\n",
       "      <td>...</td>\n",
       "    </tr>\n",
       "    <tr>\n",
       "      <th>2041</th>\n",
       "      <td>Stuart Woods</td>\n",
       "    </tr>\n",
       "    <tr>\n",
       "      <th>2042</th>\n",
       "      <td>Harlan Coben</td>\n",
       "    </tr>\n",
       "    <tr>\n",
       "      <th>2043</th>\n",
       "      <td>Meg Wolitzer</td>\n",
       "    </tr>\n",
       "    <tr>\n",
       "      <th>2044</th>\n",
       "      <td>Philip Kerr</td>\n",
       "    </tr>\n",
       "    <tr>\n",
       "      <th>2045</th>\n",
       "      <td>Jodi Picoult</td>\n",
       "    </tr>\n",
       "  </tbody>\n",
       "</table>\n",
       "<p>2046 rows × 1 columns</p>\n",
       "</div>"
      ],
      "text/plain": [
       "                      0\n",
       "0       Stephenie Meyer\n",
       "1          Emily Giffin\n",
       "2     Patricia Cornwell\n",
       "3       Chuck Palahniuk\n",
       "4         John Sandford\n",
       "...                 ...\n",
       "2041       Stuart Woods\n",
       "2042       Harlan Coben\n",
       "2043       Meg Wolitzer\n",
       "2044        Philip Kerr\n",
       "2045       Jodi Picoult\n",
       "\n",
       "[2046 rows x 1 columns]"
      ]
     },
     "execution_count": 29,
     "metadata": {},
     "output_type": "execute_result"
    }
   ],
   "source": [
    "df['author'].str.split('/s', expand=True)"
   ]
  },
  {
   "cell_type": "code",
   "execution_count": 30,
   "metadata": {},
   "outputs": [],
   "source": [
    "#Reasignanod al dataframe original con doble asignacion\n",
    "df[['author_first_name', 'author_last_name']] = df['author'].str.split('\\s', expand=True)"
   ]
  },
  {
   "cell_type": "code",
   "execution_count": 31,
   "metadata": {},
   "outputs": [
    {
     "data": {
      "text/plain": [
       "Index(['amazon_product_url', 'author', 'description', 'publisher', 'title',\n",
       "       'oid', 'bestsellers_date', 'published_date', 'rank', 'rank_last_week',\n",
       "       'weeks_on_list', 'price', 'author_first_name', 'author_last_name'],\n",
       "      dtype='object')"
      ]
     },
     "execution_count": 31,
     "metadata": {},
     "output_type": "execute_result"
    }
   ],
   "source": [
    "df.columns"
   ]
  },
  {
   "cell_type": "code",
   "execution_count": 32,
   "metadata": {},
   "outputs": [
    {
     "data": {
      "text/html": [
       "<div>\n",
       "<style scoped>\n",
       "    .dataframe tbody tr th:only-of-type {\n",
       "        vertical-align: middle;\n",
       "    }\n",
       "\n",
       "    .dataframe tbody tr th {\n",
       "        vertical-align: top;\n",
       "    }\n",
       "\n",
       "    .dataframe thead th {\n",
       "        text-align: right;\n",
       "    }\n",
       "</style>\n",
       "<table border=\"1\" class=\"dataframe\">\n",
       "  <thead>\n",
       "    <tr style=\"text-align: right;\">\n",
       "      <th></th>\n",
       "      <th>amazon_product_url</th>\n",
       "      <th>author</th>\n",
       "      <th>description</th>\n",
       "      <th>publisher</th>\n",
       "      <th>title</th>\n",
       "      <th>oid</th>\n",
       "      <th>bestsellers_date</th>\n",
       "      <th>published_date</th>\n",
       "      <th>rank</th>\n",
       "      <th>rank_last_week</th>\n",
       "      <th>weeks_on_list</th>\n",
       "      <th>price</th>\n",
       "      <th>author_first_name</th>\n",
       "      <th>author_last_name</th>\n",
       "    </tr>\n",
       "  </thead>\n",
       "  <tbody>\n",
       "    <tr>\n",
       "      <th>0</th>\n",
       "      <td>http://www.amazon.com/The-Host-Novel-Stephenie...</td>\n",
       "      <td>Stephenie Meyer</td>\n",
       "      <td>Aliens have taken control of the minds and bod...</td>\n",
       "      <td>Little, Brown</td>\n",
       "      <td>the host</td>\n",
       "      <td>5b4aa4ead3089013507db18c</td>\n",
       "      <td>2008-05-24</td>\n",
       "      <td>2008-06-08</td>\n",
       "      <td>2</td>\n",
       "      <td>1</td>\n",
       "      <td>3</td>\n",
       "      <td>25.99</td>\n",
       "      <td>Stephenie</td>\n",
       "      <td>Meyer</td>\n",
       "    </tr>\n",
       "    <tr>\n",
       "      <th>1</th>\n",
       "      <td>http://www.amazon.com/Love-Youre-With-Emily-Gi...</td>\n",
       "      <td>Emily Giffin</td>\n",
       "      <td>A woman's happy marriage is shaken when she en...</td>\n",
       "      <td>St. Martin's</td>\n",
       "      <td>love the one you're with</td>\n",
       "      <td>5b4aa4ead3089013507db18d</td>\n",
       "      <td>2008-05-24</td>\n",
       "      <td>2008-06-08</td>\n",
       "      <td>3</td>\n",
       "      <td>2</td>\n",
       "      <td>2</td>\n",
       "      <td>24.95</td>\n",
       "      <td>Emily</td>\n",
       "      <td>Giffin</td>\n",
       "    </tr>\n",
       "  </tbody>\n",
       "</table>\n",
       "</div>"
      ],
      "text/plain": [
       "                                  amazon_product_url           author  \\\n",
       "0  http://www.amazon.com/The-Host-Novel-Stephenie...  Stephenie Meyer   \n",
       "1  http://www.amazon.com/Love-Youre-With-Emily-Gi...     Emily Giffin   \n",
       "\n",
       "                                         description      publisher  \\\n",
       "0  Aliens have taken control of the minds and bod...  Little, Brown   \n",
       "1  A woman's happy marriage is shaken when she en...   St. Martin's   \n",
       "\n",
       "                      title                       oid bestsellers_date  \\\n",
       "0                  the host  5b4aa4ead3089013507db18c       2008-05-24   \n",
       "1  love the one you're with  5b4aa4ead3089013507db18d       2008-05-24   \n",
       "\n",
       "  published_date  rank  rank_last_week  weeks_on_list  price  \\\n",
       "0     2008-06-08     2               1              3  25.99   \n",
       "1     2008-06-08     3               2              2  24.95   \n",
       "\n",
       "  author_first_name author_last_name  \n",
       "0         Stephenie            Meyer  \n",
       "1             Emily           Giffin  "
      ]
     },
     "execution_count": 32,
     "metadata": {},
     "output_type": "execute_result"
    }
   ],
   "source": [
    "df.head(2)"
   ]
  },
  {
   "cell_type": "markdown",
   "metadata": {},
   "source": [
    "### Map"
   ]
  },
  {
   "cell_type": "markdown",
   "metadata": {},
   "source": [
    "Map es un método de Series que sirve para sustituir un valor con otro valor. Hay dos maneras de especificar la sustitución: usando un \"mapa\" o usando una función. Un \"mapa\" es básicamente un diccionario que \"mapea\" de un valor a otro valor. Entra un valor (la \"llave\") y sale otro valor (el \"valor\" que corresponde a dicha \"llave\"). "
   ]
  },
  {
   "cell_type": "code",
   "execution_count": 33,
   "metadata": {},
   "outputs": [
    {
     "data": {
      "text/plain": [
       "array([ 2,  3,  4,  5,  7,  8,  9, 10, 12, 13, 14,  6, 11, 15,  1, 16])"
      ]
     },
     "execution_count": 33,
     "metadata": {},
     "output_type": "execute_result"
    }
   ],
   "source": [
    "df['rank'].unique()"
   ]
  },
  {
   "cell_type": "code",
   "execution_count": 34,
   "metadata": {},
   "outputs": [],
   "source": [
    "#Creando el mapa\n",
    "int_a_letra = {\n",
    "    1: 'a',\n",
    "    2: 'b',\n",
    "    3: 'c',\n",
    "    4: 'd',\n",
    "    5: 'e',\n",
    "    6: 'f',\n",
    "    7: 'g',\n",
    "    8: 'h',\n",
    "    9: 'i',\n",
    "    10: 'j',\n",
    "    11: 'k',\n",
    "    12: 'l',\n",
    "    13: 'm',\n",
    "    14: 'n',\n",
    "    15: 'o',\n",
    "    16: 'p'\n",
    "}\n"
   ]
  },
  {
   "cell_type": "code",
   "execution_count": 35,
   "metadata": {},
   "outputs": [
    {
     "data": {
      "text/plain": [
       "0     b\n",
       "1     c\n",
       "2     d\n",
       "3     e\n",
       "4     g\n",
       "5     h\n",
       "6     i\n",
       "7     j\n",
       "8     l\n",
       "9     m\n",
       "10    n\n",
       "11    d\n",
       "12    f\n",
       "13    g\n",
       "14    h\n",
       "15    i\n",
       "16    j\n",
       "17    k\n",
       "18    l\n",
       "19    m\n",
       "Name: rank, dtype: object"
      ]
     },
     "execution_count": 35,
     "metadata": {},
     "output_type": "execute_result"
    }
   ],
   "source": [
    "#Usando map para transformar los dtaos\n",
    "df['rank'].map(int_a_letra).head(20)"
   ]
  },
  {
   "cell_type": "markdown",
   "metadata": {},
   "source": [
    "### Apply"
   ]
  },
  {
   "cell_type": "markdown",
   "metadata": {},
   "source": [
    "Podemos usar la función apply para aplicar una función a una Serie o a un DataFrame. Si la aplicamos a una Serie, podemos aplicar una función \"elemento por elemento\" o como agregación. Si la aplicamos a un DataFrame podemos elegir si aplicarla a través del axis 0 (aplicar la función a cada columna) o a través del axis 1(a cada fila)."
   ]
  },
  {
   "cell_type": "code",
   "execution_count": 36,
   "metadata": {},
   "outputs": [],
   "source": [
    "#Regex\n",
    "import re\n",
    "regex_to_find_women = re.compile('(wom[(a|e)]n\\s|\\swom[(a|e)]n\\s|\\swom[(a|e)]n\\.)' , flags=re.IGNORECASE)\n",
    "regex_to_find_men = re.compile('(^m[(a|e)]n\\s|\\sm[(a|e)]n\\s|\\sm[(a|e)]n\\.)', flags=re.IGNORECASE)"
   ]
  },
  {
   "cell_type": "code",
   "execution_count": 37,
   "metadata": {},
   "outputs": [],
   "source": [
    "def return_gender_in_description(value):\n",
    "\n",
    "    women_found = False\n",
    "    men_found = False\n",
    "    \n",
    "    if len(regex_to_find_women.findall(value)) > 0:\n",
    "        women_found = True\n",
    "    \n",
    "    if len(regex_to_find_men.findall(value)) > 0:\n",
    "        men_found = True\n",
    "        \n",
    "    if women_found and men_found:\n",
    "        return 'Both'\n",
    "    elif women_found:\n",
    "        return 'Women'\n",
    "    elif men_found:\n",
    "        return 'Men'\n",
    "    else:\n",
    "        return 'Neither'"
   ]
  },
  {
   "cell_type": "code",
   "execution_count": 55,
   "metadata": {},
   "outputs": [
    {
     "data": {
      "text/plain": [
       "0         Women\n",
       "1       Neither\n",
       "2       Neither\n",
       "3           Men\n",
       "4       Neither\n",
       "         ...   \n",
       "2041    Neither\n",
       "2042      Women\n",
       "2043    Neither\n",
       "2044    Neither\n",
       "2045    Neither\n",
       "Name: description, Length: 2046, dtype: object"
      ]
     },
     "execution_count": 55,
     "metadata": {},
     "output_type": "execute_result"
    }
   ],
   "source": [
    "df['description'].apply(return_gender_in_description)\n"
   ]
  },
  {
   "cell_type": "code",
   "execution_count": 56,
   "metadata": {},
   "outputs": [],
   "source": [
    "df['gender_in_description'] = df['description'].apply(return_gender_in_description)\n"
   ]
  },
  {
   "cell_type": "code",
   "execution_count": 58,
   "metadata": {},
   "outputs": [],
   "source": [
    "df_copy = df.copy()"
   ]
  },
  {
   "cell_type": "code",
   "execution_count": 59,
   "metadata": {},
   "outputs": [
    {
     "name": "stdout",
     "output_type": "stream",
     "text": [
      "Index(['amazon_product_url', 'author', 'description', 'publisher', 'title',\n",
      "       'oid', 'bestsellers_date', 'published_date', 'rank', 'rank_last_week',\n",
      "       'weeks_on_list', 'price', 'author_first_name', 'author_last_name',\n",
      "       'gender_in_description'],\n",
      "      dtype='object')\n"
     ]
    }
   ],
   "source": [
    "print(df_copy.columns)"
   ]
  },
  {
   "cell_type": "code",
   "execution_count": 60,
   "metadata": {},
   "outputs": [
    {
     "data": {
      "text/html": [
       "<div>\n",
       "<style scoped>\n",
       "    .dataframe tbody tr th:only-of-type {\n",
       "        vertical-align: middle;\n",
       "    }\n",
       "\n",
       "    .dataframe tbody tr th {\n",
       "        vertical-align: top;\n",
       "    }\n",
       "\n",
       "    .dataframe thead th {\n",
       "        text-align: right;\n",
       "    }\n",
       "</style>\n",
       "<table border=\"1\" class=\"dataframe\">\n",
       "  <thead>\n",
       "    <tr style=\"text-align: right;\">\n",
       "      <th></th>\n",
       "      <th>amazon_product_url</th>\n",
       "      <th>author</th>\n",
       "      <th>description</th>\n",
       "      <th>publisher</th>\n",
       "      <th>title</th>\n",
       "      <th>oid</th>\n",
       "      <th>bestsellers_date</th>\n",
       "      <th>published_date</th>\n",
       "      <th>rank</th>\n",
       "      <th>rank_last_week</th>\n",
       "      <th>weeks_on_list</th>\n",
       "      <th>price</th>\n",
       "      <th>author_first_name</th>\n",
       "      <th>author_last_name</th>\n",
       "      <th>gender_in_description</th>\n",
       "    </tr>\n",
       "  </thead>\n",
       "  <tbody>\n",
       "    <tr>\n",
       "      <th>1308</th>\n",
       "      <td>http://www.amazon.com/The-Priests-Graveyard-Te...</td>\n",
       "      <td>Ted Dekker</td>\n",
       "      <td>A priest and a young woman cross paths as they...</td>\n",
       "      <td>Center Street</td>\n",
       "      <td>the priest's graveyard</td>\n",
       "      <td>5b4aa4ead3089013507dbd73</td>\n",
       "      <td>2011-04-23</td>\n",
       "      <td>2011-05-08</td>\n",
       "      <td>9</td>\n",
       "      <td>0</td>\n",
       "      <td>1</td>\n",
       "      <td>24.99</td>\n",
       "      <td>Ted</td>\n",
       "      <td>Dekker</td>\n",
       "      <td>Both</td>\n",
       "    </tr>\n",
       "    <tr>\n",
       "      <th>1496</th>\n",
       "      <td>http://www.amazon.com/The-Best-Me-Nicholas-Spa...</td>\n",
       "      <td>Nicholas Sparks</td>\n",
       "      <td>Twenty-five years after their high school roma...</td>\n",
       "      <td>Grand Central</td>\n",
       "      <td>the best of me</td>\n",
       "      <td>5b4aa4ead3089013507dbf5f</td>\n",
       "      <td>2011-10-15</td>\n",
       "      <td>2011-10-30</td>\n",
       "      <td>1</td>\n",
       "      <td>0</td>\n",
       "      <td>1</td>\n",
       "      <td>25.99</td>\n",
       "      <td>Nicholas</td>\n",
       "      <td>Sparks</td>\n",
       "      <td>Both</td>\n",
       "    </tr>\n",
       "    <tr>\n",
       "      <th>1517</th>\n",
       "      <td>http://www.amazon.com/The-Best-Me-Nicholas-Spa...</td>\n",
       "      <td>Nicholas Sparks</td>\n",
       "      <td>Twenty-five years after their high school roma...</td>\n",
       "      <td>Grand Central</td>\n",
       "      <td>the best of me</td>\n",
       "      <td>5b4aa4ead3089013507dbf89</td>\n",
       "      <td>2011-10-29</td>\n",
       "      <td>2011-11-13</td>\n",
       "      <td>3</td>\n",
       "      <td>1</td>\n",
       "      <td>3</td>\n",
       "      <td>25.99</td>\n",
       "      <td>Nicholas</td>\n",
       "      <td>Sparks</td>\n",
       "      <td>Both</td>\n",
       "    </tr>\n",
       "    <tr>\n",
       "      <th>1532</th>\n",
       "      <td>http://www.amazon.com/The-Best-Me-Nicholas-Spa...</td>\n",
       "      <td>Nicholas Sparks</td>\n",
       "      <td>Twenty-five years after their high school roma...</td>\n",
       "      <td>Grand Central</td>\n",
       "      <td>the best of me</td>\n",
       "      <td>5b4aa4ead3089013507dbfb2</td>\n",
       "      <td>2011-11-12</td>\n",
       "      <td>2011-11-27</td>\n",
       "      <td>4</td>\n",
       "      <td>3</td>\n",
       "      <td>5</td>\n",
       "      <td>25.99</td>\n",
       "      <td>Nicholas</td>\n",
       "      <td>Sparks</td>\n",
       "      <td>Both</td>\n",
       "    </tr>\n",
       "    <tr>\n",
       "      <th>1539</th>\n",
       "      <td>http://www.amazon.com/The-Best-Me-Nicholas-Spa...</td>\n",
       "      <td>Nicholas Sparks</td>\n",
       "      <td>Twenty-five years after their high school roma...</td>\n",
       "      <td>Grand Central</td>\n",
       "      <td>the best of me</td>\n",
       "      <td>5b4aa4ead3089013507dbfc8</td>\n",
       "      <td>2011-11-19</td>\n",
       "      <td>2011-12-04</td>\n",
       "      <td>6</td>\n",
       "      <td>4</td>\n",
       "      <td>6</td>\n",
       "      <td>25.99</td>\n",
       "      <td>Nicholas</td>\n",
       "      <td>Sparks</td>\n",
       "      <td>Both</td>\n",
       "    </tr>\n",
       "    <tr>\n",
       "      <th>1547</th>\n",
       "      <td>http://www.amazon.com/The-Best-Me-Nicholas-Spa...</td>\n",
       "      <td>Nicholas Sparks</td>\n",
       "      <td>Twenty-five years after their high school roma...</td>\n",
       "      <td>Grand Central</td>\n",
       "      <td>the best of me</td>\n",
       "      <td>5b4aa4ead3089013507dbfdd</td>\n",
       "      <td>2011-11-26</td>\n",
       "      <td>2011-12-11</td>\n",
       "      <td>7</td>\n",
       "      <td>6</td>\n",
       "      <td>7</td>\n",
       "      <td>25.99</td>\n",
       "      <td>Nicholas</td>\n",
       "      <td>Sparks</td>\n",
       "      <td>Both</td>\n",
       "    </tr>\n",
       "    <tr>\n",
       "      <th>1553</th>\n",
       "      <td>http://www.amazon.com/The-Best-Me-Nicholas-Spa...</td>\n",
       "      <td>Nicholas Sparks</td>\n",
       "      <td>Twenty-five years after their high school roma...</td>\n",
       "      <td>Grand Central</td>\n",
       "      <td>the best of me</td>\n",
       "      <td>5b4aa4ead3089013507dbff0</td>\n",
       "      <td>2011-12-03</td>\n",
       "      <td>2011-12-18</td>\n",
       "      <td>6</td>\n",
       "      <td>7</td>\n",
       "      <td>8</td>\n",
       "      <td>25.99</td>\n",
       "      <td>Nicholas</td>\n",
       "      <td>Sparks</td>\n",
       "      <td>Both</td>\n",
       "    </tr>\n",
       "    <tr>\n",
       "      <th>1561</th>\n",
       "      <td>http://www.amazon.com/The-Best-Me-Nicholas-Spa...</td>\n",
       "      <td>Nicholas Sparks</td>\n",
       "      <td>Twenty-five years after their high school roma...</td>\n",
       "      <td>Grand Central</td>\n",
       "      <td>the best of me</td>\n",
       "      <td>5b4aa4ead3089013507dc006</td>\n",
       "      <td>2011-12-10</td>\n",
       "      <td>2011-12-25</td>\n",
       "      <td>8</td>\n",
       "      <td>6</td>\n",
       "      <td>9</td>\n",
       "      <td>25.99</td>\n",
       "      <td>Nicholas</td>\n",
       "      <td>Sparks</td>\n",
       "      <td>Both</td>\n",
       "    </tr>\n",
       "    <tr>\n",
       "      <th>1568</th>\n",
       "      <td>http://www.amazon.com/The-Best-Me-Nicholas-Spa...</td>\n",
       "      <td>Nicholas Sparks</td>\n",
       "      <td>Twenty-five years after their high school roma...</td>\n",
       "      <td>Grand Central</td>\n",
       "      <td>the best of me</td>\n",
       "      <td>5b4aa4ead3089013507dc018</td>\n",
       "      <td>2011-12-17</td>\n",
       "      <td>2012-01-01</td>\n",
       "      <td>6</td>\n",
       "      <td>8</td>\n",
       "      <td>10</td>\n",
       "      <td>25.99</td>\n",
       "      <td>Nicholas</td>\n",
       "      <td>Sparks</td>\n",
       "      <td>Both</td>\n",
       "    </tr>\n",
       "    <tr>\n",
       "      <th>1582</th>\n",
       "      <td>http://www.amazon.com/The-Best-Me-Nicholas-Spa...</td>\n",
       "      <td>Nicholas Sparks</td>\n",
       "      <td>Twenty-five years after their high school roma...</td>\n",
       "      <td>Grand Central</td>\n",
       "      <td>the best of me</td>\n",
       "      <td>5b4aa4ead3089013507dc041</td>\n",
       "      <td>2011-12-31</td>\n",
       "      <td>2012-01-15</td>\n",
       "      <td>7</td>\n",
       "      <td>6</td>\n",
       "      <td>12</td>\n",
       "      <td>25.99</td>\n",
       "      <td>Nicholas</td>\n",
       "      <td>Sparks</td>\n",
       "      <td>Both</td>\n",
       "    </tr>\n",
       "    <tr>\n",
       "      <th>1586</th>\n",
       "      <td>http://www.amazon.com/The-Best-Me-Nicholas-Spa...</td>\n",
       "      <td>Nicholas Sparks</td>\n",
       "      <td>Twenty-five years after their high school roma...</td>\n",
       "      <td>Grand Central</td>\n",
       "      <td>the best of me</td>\n",
       "      <td>5b4aa4ead3089013507dc057</td>\n",
       "      <td>2012-01-07</td>\n",
       "      <td>2012-01-22</td>\n",
       "      <td>9</td>\n",
       "      <td>7</td>\n",
       "      <td>13</td>\n",
       "      <td>25.99</td>\n",
       "      <td>Nicholas</td>\n",
       "      <td>Sparks</td>\n",
       "      <td>Both</td>\n",
       "    </tr>\n",
       "    <tr>\n",
       "      <th>1602</th>\n",
       "      <td>http://www.amazon.com/The-Best-Me-Nicholas-Spa...</td>\n",
       "      <td>Nicholas Sparks</td>\n",
       "      <td>Twenty-five years after their high school roma...</td>\n",
       "      <td>Grand Central</td>\n",
       "      <td>the best of me</td>\n",
       "      <td>5b4aa4ead3089013507dc084</td>\n",
       "      <td>2012-01-21</td>\n",
       "      <td>2012-02-05</td>\n",
       "      <td>14</td>\n",
       "      <td>14</td>\n",
       "      <td>15</td>\n",
       "      <td>25.99</td>\n",
       "      <td>Nicholas</td>\n",
       "      <td>Sparks</td>\n",
       "      <td>Both</td>\n",
       "    </tr>\n",
       "    <tr>\n",
       "      <th>1609</th>\n",
       "      <td>http://www.amazon.com/The-Best-Me-Nicholas-Spa...</td>\n",
       "      <td>Nicholas Sparks</td>\n",
       "      <td>Twenty-five years after their high school roma...</td>\n",
       "      <td>Grand Central</td>\n",
       "      <td>the best of me</td>\n",
       "      <td>5b4aa4ead3089013507dc099</td>\n",
       "      <td>2012-01-28</td>\n",
       "      <td>2012-02-12</td>\n",
       "      <td>15</td>\n",
       "      <td>14</td>\n",
       "      <td>16</td>\n",
       "      <td>25.99</td>\n",
       "      <td>Nicholas</td>\n",
       "      <td>Sparks</td>\n",
       "      <td>Both</td>\n",
       "    </tr>\n",
       "    <tr>\n",
       "      <th>1618</th>\n",
       "      <td>http://www.amazon.com/The-Best-Me-Nicholas-Spa...</td>\n",
       "      <td>Nicholas Sparks</td>\n",
       "      <td>Twenty-five years after their high school roma...</td>\n",
       "      <td>Grand Central</td>\n",
       "      <td>the best of me</td>\n",
       "      <td>5b4aa4ead3089013507dc0ac</td>\n",
       "      <td>2012-02-04</td>\n",
       "      <td>2012-02-19</td>\n",
       "      <td>14</td>\n",
       "      <td>15</td>\n",
       "      <td>17</td>\n",
       "      <td>25.99</td>\n",
       "      <td>Nicholas</td>\n",
       "      <td>Sparks</td>\n",
       "      <td>Both</td>\n",
       "    </tr>\n",
       "    <tr>\n",
       "      <th>1654</th>\n",
       "      <td>http://www.amazon.com/Another-Piece-Heart-Jane...</td>\n",
       "      <td>Jane Green</td>\n",
       "      <td>A woman in her late 30s marries the man of her...</td>\n",
       "      <td>St. Martin’s</td>\n",
       "      <td>another piece of my heart</td>\n",
       "      <td>5b4aa4ead3089013507dc126</td>\n",
       "      <td>2012-03-17</td>\n",
       "      <td>2012-04-01</td>\n",
       "      <td>16</td>\n",
       "      <td>0</td>\n",
       "      <td>1</td>\n",
       "      <td>25.99</td>\n",
       "      <td>Jane</td>\n",
       "      <td>Green</td>\n",
       "      <td>Both</td>\n",
       "    </tr>\n",
       "  </tbody>\n",
       "</table>\n",
       "</div>"
      ],
      "text/plain": [
       "                                     amazon_product_url           author  \\\n",
       "1308  http://www.amazon.com/The-Priests-Graveyard-Te...       Ted Dekker   \n",
       "1496  http://www.amazon.com/The-Best-Me-Nicholas-Spa...  Nicholas Sparks   \n",
       "1517  http://www.amazon.com/The-Best-Me-Nicholas-Spa...  Nicholas Sparks   \n",
       "1532  http://www.amazon.com/The-Best-Me-Nicholas-Spa...  Nicholas Sparks   \n",
       "1539  http://www.amazon.com/The-Best-Me-Nicholas-Spa...  Nicholas Sparks   \n",
       "1547  http://www.amazon.com/The-Best-Me-Nicholas-Spa...  Nicholas Sparks   \n",
       "1553  http://www.amazon.com/The-Best-Me-Nicholas-Spa...  Nicholas Sparks   \n",
       "1561  http://www.amazon.com/The-Best-Me-Nicholas-Spa...  Nicholas Sparks   \n",
       "1568  http://www.amazon.com/The-Best-Me-Nicholas-Spa...  Nicholas Sparks   \n",
       "1582  http://www.amazon.com/The-Best-Me-Nicholas-Spa...  Nicholas Sparks   \n",
       "1586  http://www.amazon.com/The-Best-Me-Nicholas-Spa...  Nicholas Sparks   \n",
       "1602  http://www.amazon.com/The-Best-Me-Nicholas-Spa...  Nicholas Sparks   \n",
       "1609  http://www.amazon.com/The-Best-Me-Nicholas-Spa...  Nicholas Sparks   \n",
       "1618  http://www.amazon.com/The-Best-Me-Nicholas-Spa...  Nicholas Sparks   \n",
       "1654  http://www.amazon.com/Another-Piece-Heart-Jane...       Jane Green   \n",
       "\n",
       "                                            description      publisher  \\\n",
       "1308  A priest and a young woman cross paths as they...  Center Street   \n",
       "1496  Twenty-five years after their high school roma...  Grand Central   \n",
       "1517  Twenty-five years after their high school roma...  Grand Central   \n",
       "1532  Twenty-five years after their high school roma...  Grand Central   \n",
       "1539  Twenty-five years after their high school roma...  Grand Central   \n",
       "1547  Twenty-five years after their high school roma...  Grand Central   \n",
       "1553  Twenty-five years after their high school roma...  Grand Central   \n",
       "1561  Twenty-five years after their high school roma...  Grand Central   \n",
       "1568  Twenty-five years after their high school roma...  Grand Central   \n",
       "1582  Twenty-five years after their high school roma...  Grand Central   \n",
       "1586  Twenty-five years after their high school roma...  Grand Central   \n",
       "1602  Twenty-five years after their high school roma...  Grand Central   \n",
       "1609  Twenty-five years after their high school roma...  Grand Central   \n",
       "1618  Twenty-five years after their high school roma...  Grand Central   \n",
       "1654  A woman in her late 30s marries the man of her...   St. Martin’s   \n",
       "\n",
       "                          title                       oid bestsellers_date  \\\n",
       "1308     the priest's graveyard  5b4aa4ead3089013507dbd73       2011-04-23   \n",
       "1496             the best of me  5b4aa4ead3089013507dbf5f       2011-10-15   \n",
       "1517             the best of me  5b4aa4ead3089013507dbf89       2011-10-29   \n",
       "1532             the best of me  5b4aa4ead3089013507dbfb2       2011-11-12   \n",
       "1539             the best of me  5b4aa4ead3089013507dbfc8       2011-11-19   \n",
       "1547             the best of me  5b4aa4ead3089013507dbfdd       2011-11-26   \n",
       "1553             the best of me  5b4aa4ead3089013507dbff0       2011-12-03   \n",
       "1561             the best of me  5b4aa4ead3089013507dc006       2011-12-10   \n",
       "1568             the best of me  5b4aa4ead3089013507dc018       2011-12-17   \n",
       "1582             the best of me  5b4aa4ead3089013507dc041       2011-12-31   \n",
       "1586             the best of me  5b4aa4ead3089013507dc057       2012-01-07   \n",
       "1602             the best of me  5b4aa4ead3089013507dc084       2012-01-21   \n",
       "1609             the best of me  5b4aa4ead3089013507dc099       2012-01-28   \n",
       "1618             the best of me  5b4aa4ead3089013507dc0ac       2012-02-04   \n",
       "1654  another piece of my heart  5b4aa4ead3089013507dc126       2012-03-17   \n",
       "\n",
       "     published_date  rank  rank_last_week  weeks_on_list  price  \\\n",
       "1308     2011-05-08     9               0              1  24.99   \n",
       "1496     2011-10-30     1               0              1  25.99   \n",
       "1517     2011-11-13     3               1              3  25.99   \n",
       "1532     2011-11-27     4               3              5  25.99   \n",
       "1539     2011-12-04     6               4              6  25.99   \n",
       "1547     2011-12-11     7               6              7  25.99   \n",
       "1553     2011-12-18     6               7              8  25.99   \n",
       "1561     2011-12-25     8               6              9  25.99   \n",
       "1568     2012-01-01     6               8             10  25.99   \n",
       "1582     2012-01-15     7               6             12  25.99   \n",
       "1586     2012-01-22     9               7             13  25.99   \n",
       "1602     2012-02-05    14              14             15  25.99   \n",
       "1609     2012-02-12    15              14             16  25.99   \n",
       "1618     2012-02-19    14              15             17  25.99   \n",
       "1654     2012-04-01    16               0              1  25.99   \n",
       "\n",
       "     author_first_name author_last_name gender_in_description  \n",
       "1308               Ted           Dekker                  Both  \n",
       "1496          Nicholas           Sparks                  Both  \n",
       "1517          Nicholas           Sparks                  Both  \n",
       "1532          Nicholas           Sparks                  Both  \n",
       "1539          Nicholas           Sparks                  Both  \n",
       "1547          Nicholas           Sparks                  Both  \n",
       "1553          Nicholas           Sparks                  Both  \n",
       "1561          Nicholas           Sparks                  Both  \n",
       "1568          Nicholas           Sparks                  Both  \n",
       "1582          Nicholas           Sparks                  Both  \n",
       "1586          Nicholas           Sparks                  Both  \n",
       "1602          Nicholas           Sparks                  Both  \n",
       "1609          Nicholas           Sparks                  Both  \n",
       "1618          Nicholas           Sparks                  Both  \n",
       "1654              Jane            Green                  Both  "
      ]
     },
     "execution_count": 60,
     "metadata": {},
     "output_type": "execute_result"
    }
   ],
   "source": [
    "df_copy[df_copy['gender_in_description'] == 'Both']"
   ]
  },
  {
   "cell_type": "code",
   "execution_count": 61,
   "metadata": {},
   "outputs": [
    {
     "data": {
      "text/plain": [
       "'A priest and a young woman cross paths as they seek to bring a powerful man to justice.'"
      ]
     },
     "execution_count": 61,
     "metadata": {},
     "output_type": "execute_result"
    }
   ],
   "source": [
    "df_copy.loc[1308, 'description']"
   ]
  },
  {
   "cell_type": "markdown",
   "metadata": {},
   "source": [
    "### Filtros"
   ]
  },
  {
   "cell_type": "markdown",
   "metadata": {},
   "source": [
    "Usamos un operador de comparación para realizar una comparación \"elemento por elemento\" de alguna Serie. Por ejemplo, vamos a ver el filtro que acabamos de usar:"
   ]
  },
  {
   "cell_type": "code",
   "execution_count": 62,
   "metadata": {},
   "outputs": [
    {
     "data": {
      "text/plain": [
       "0       False\n",
       "1       False\n",
       "2       False\n",
       "3       False\n",
       "4       False\n",
       "        ...  \n",
       "2041    False\n",
       "2042    False\n",
       "2043    False\n",
       "2044    False\n",
       "2045    False\n",
       "Name: gender_in_description, Length: 2046, dtype: bool"
      ]
     },
     "execution_count": 62,
     "metadata": {},
     "output_type": "execute_result"
    }
   ],
   "source": [
    "df_copy['gender_in_description'] == 'Both'"
   ]
  },
  {
   "cell_type": "markdown",
   "metadata": {},
   "source": [
    "Al realizar la comparación lo que obtenemos de regreso es una Serie con la misma longitud que la Serie original. La comparación se aplica \"elemento por elemento\", cuando la comparación es cierta, regresamos True, cuando es false, regresamos False. Entonces lo que obtenemos es una Serie con Trues y Falses que nos indica en qué índices la comparación fue cierta y en cuáles no."
   ]
  },
  {
   "cell_type": "markdown",
   "metadata": {},
   "source": [
    "**Aprovechando los filtros**\n",
    "\n",
    "Esta \"serie-filtro\" podemos guardarla en una variable y luego usarla como filtro para pedirle al DataFrame solamente las filas donde el valor correspondiente sea True:"
   ]
  },
  {
   "cell_type": "code",
   "execution_count": 63,
   "metadata": {},
   "outputs": [],
   "source": [
    "filtro_both = df_copy['gender_in_description'] == 'Both'"
   ]
  },
  {
   "cell_type": "code",
   "execution_count": 64,
   "metadata": {},
   "outputs": [
    {
     "data": {
      "text/plain": [
       "amazon_product_url       15\n",
       "author                   15\n",
       "description              15\n",
       "publisher                15\n",
       "title                    15\n",
       "oid                      15\n",
       "bestsellers_date         15\n",
       "published_date           15\n",
       "rank                     15\n",
       "rank_last_week           15\n",
       "weeks_on_list            15\n",
       "price                    15\n",
       "author_first_name        15\n",
       "author_last_name         15\n",
       "gender_in_description    15\n",
       "dtype: int64"
      ]
     },
     "execution_count": 64,
     "metadata": {},
     "output_type": "execute_result"
    }
   ],
   "source": [
    "#Contar el numero de filas\n",
    "df[filtro_both].count()"
   ]
  },
  {
   "cell_type": "markdown",
   "metadata": {},
   "source": [
    "Podemos ver que hay 15 filas (en cada columna, pero son la misma en todas) donde la gender_in_description es igual a \"Both\"\n",
    "\n",
    "**IMPORTANTE**\n",
    "\n",
    "No es necesario asignar el filtro a una variable para después pasarlo al operador de indexaciòn del DataFrame"
   ]
  },
  {
   "cell_type": "code",
   "execution_count": 65,
   "metadata": {},
   "outputs": [
    {
     "data": {
      "text/html": [
       "<div>\n",
       "<style scoped>\n",
       "    .dataframe tbody tr th:only-of-type {\n",
       "        vertical-align: middle;\n",
       "    }\n",
       "\n",
       "    .dataframe tbody tr th {\n",
       "        vertical-align: top;\n",
       "    }\n",
       "\n",
       "    .dataframe thead th {\n",
       "        text-align: right;\n",
       "    }\n",
       "</style>\n",
       "<table border=\"1\" class=\"dataframe\">\n",
       "  <thead>\n",
       "    <tr style=\"text-align: right;\">\n",
       "      <th></th>\n",
       "      <th>amazon_product_url</th>\n",
       "      <th>author</th>\n",
       "      <th>description</th>\n",
       "      <th>publisher</th>\n",
       "      <th>title</th>\n",
       "      <th>oid</th>\n",
       "      <th>bestsellers_date</th>\n",
       "      <th>published_date</th>\n",
       "      <th>rank</th>\n",
       "      <th>rank_last_week</th>\n",
       "      <th>weeks_on_list</th>\n",
       "      <th>price</th>\n",
       "      <th>author_first_name</th>\n",
       "      <th>author_last_name</th>\n",
       "      <th>gender_in_description</th>\n",
       "    </tr>\n",
       "  </thead>\n",
       "  <tbody>\n",
       "    <tr>\n",
       "      <th>109</th>\n",
       "      <td>http://www.amazon.com/The-Gargoyle-Andrew-Davi...</td>\n",
       "      <td>Andrew Davidson</td>\n",
       "      <td>A hideously burned man is cared for by a sculp...</td>\n",
       "      <td>Doubleday</td>\n",
       "      <td>the gargoyle</td>\n",
       "      <td>5b4aa4ead3089013507db274</td>\n",
       "      <td>2008-08-09</td>\n",
       "      <td>2008-08-24</td>\n",
       "      <td>14</td>\n",
       "      <td>0</td>\n",
       "      <td>1</td>\n",
       "      <td>25.95</td>\n",
       "      <td>Andrew</td>\n",
       "      <td>Davidson</td>\n",
       "      <td>Men</td>\n",
       "    </tr>\n",
       "    <tr>\n",
       "      <th>119</th>\n",
       "      <td>http://www.amazon.com/The-Gargoyle-Andrew-Davi...</td>\n",
       "      <td>Andrew Davidson</td>\n",
       "      <td>A hideously burned man is cared for by a sculp...</td>\n",
       "      <td>Doubleday</td>\n",
       "      <td>the gargoyle</td>\n",
       "      <td>5b4aa4ead3089013507db28a</td>\n",
       "      <td>2008-08-16</td>\n",
       "      <td>2008-08-31</td>\n",
       "      <td>16</td>\n",
       "      <td>14</td>\n",
       "      <td>2</td>\n",
       "      <td>25.95</td>\n",
       "      <td>Andrew</td>\n",
       "      <td>Davidson</td>\n",
       "      <td>Men</td>\n",
       "    </tr>\n",
       "    <tr>\n",
       "      <th>126</th>\n",
       "      <td>http://www.amazon.com/The-Gargoyle-Andrew-Davi...</td>\n",
       "      <td>Andrew Davidson</td>\n",
       "      <td>A hideously burned man is cared for by a sculp...</td>\n",
       "      <td>Doubleday</td>\n",
       "      <td>the gargoyle</td>\n",
       "      <td>5b4aa4ead3089013507db29b</td>\n",
       "      <td>2008-08-23</td>\n",
       "      <td>2008-09-07</td>\n",
       "      <td>13</td>\n",
       "      <td>16</td>\n",
       "      <td>3</td>\n",
       "      <td>25.95</td>\n",
       "      <td>Andrew</td>\n",
       "      <td>Davidson</td>\n",
       "      <td>Men</td>\n",
       "    </tr>\n",
       "    <tr>\n",
       "      <th>202</th>\n",
       "      <td>http://www.amazon.com/Testimony-A-Novel-Anita-...</td>\n",
       "      <td>Anita Shreve</td>\n",
       "      <td>A sex scandal at a Vermont prep school is caug...</td>\n",
       "      <td>Little, Brown</td>\n",
       "      <td>testimony</td>\n",
       "      <td>5b4aa4ead3089013507db34a</td>\n",
       "      <td>2008-10-25</td>\n",
       "      <td>2008-11-09</td>\n",
       "      <td>8</td>\n",
       "      <td>0</td>\n",
       "      <td>1</td>\n",
       "      <td>25.99</td>\n",
       "      <td>Anita</td>\n",
       "      <td>Shreve</td>\n",
       "      <td>Neither</td>\n",
       "    </tr>\n",
       "    <tr>\n",
       "      <th>211</th>\n",
       "      <td>http://www.amazon.com/Testimony-A-Novel-Anita-...</td>\n",
       "      <td>Anita Shreve</td>\n",
       "      <td>A sex scandal at a Vermont prep school is caug...</td>\n",
       "      <td>Little, Brown</td>\n",
       "      <td>testimony</td>\n",
       "      <td>5b4aa4ead3089013507db35f</td>\n",
       "      <td>2008-11-01</td>\n",
       "      <td>2008-11-16</td>\n",
       "      <td>9</td>\n",
       "      <td>8</td>\n",
       "      <td>2</td>\n",
       "      <td>25.99</td>\n",
       "      <td>Anita</td>\n",
       "      <td>Shreve</td>\n",
       "      <td>Neither</td>\n",
       "    </tr>\n",
       "    <tr>\n",
       "      <th>...</th>\n",
       "      <td>...</td>\n",
       "      <td>...</td>\n",
       "      <td>...</td>\n",
       "      <td>...</td>\n",
       "      <td>...</td>\n",
       "      <td>...</td>\n",
       "      <td>...</td>\n",
       "      <td>...</td>\n",
       "      <td>...</td>\n",
       "      <td>...</td>\n",
       "      <td>...</td>\n",
       "      <td>...</td>\n",
       "      <td>...</td>\n",
       "      <td>...</td>\n",
       "      <td>...</td>\n",
       "    </tr>\n",
       "    <tr>\n",
       "      <th>1948</th>\n",
       "      <td>http://www.amazon.com/Twelve-Digital-Edition-V...</td>\n",
       "      <td>Ayana Mathis</td>\n",
       "      <td>Fifty-some years in the life of an African-Ame...</td>\n",
       "      <td>Knopf</td>\n",
       "      <td>the twelve tribes of hattie</td>\n",
       "      <td>5b4aa4ead3089013507dc48e</td>\n",
       "      <td>2013-01-19</td>\n",
       "      <td>2013-02-03</td>\n",
       "      <td>8</td>\n",
       "      <td>7</td>\n",
       "      <td>6</td>\n",
       "      <td>24.95</td>\n",
       "      <td>Ayana</td>\n",
       "      <td>Mathis</td>\n",
       "      <td>Neither</td>\n",
       "    </tr>\n",
       "    <tr>\n",
       "      <th>1958</th>\n",
       "      <td>http://www.amazon.com/Twelve-Digital-Edition-V...</td>\n",
       "      <td>Ayana Mathis</td>\n",
       "      <td>Fifty-some years in the life of an African-Ame...</td>\n",
       "      <td>Knopf</td>\n",
       "      <td>the twelve tribes of hattie</td>\n",
       "      <td>5b4aa4ead3089013507dc4a4</td>\n",
       "      <td>2013-01-26</td>\n",
       "      <td>2013-02-10</td>\n",
       "      <td>10</td>\n",
       "      <td>8</td>\n",
       "      <td>7</td>\n",
       "      <td>24.95</td>\n",
       "      <td>Ayana</td>\n",
       "      <td>Mathis</td>\n",
       "      <td>Neither</td>\n",
       "    </tr>\n",
       "    <tr>\n",
       "      <th>1969</th>\n",
       "      <td>http://www.amazon.com/Twelve-Digital-Edition-V...</td>\n",
       "      <td>Ayana Mathis</td>\n",
       "      <td>Fifty-some years in the life of an African-Ame...</td>\n",
       "      <td>Knopf</td>\n",
       "      <td>the twelve tribes of hattie</td>\n",
       "      <td>5b4aa4ead3089013507dc4bc</td>\n",
       "      <td>2013-02-02</td>\n",
       "      <td>2013-02-17</td>\n",
       "      <td>14</td>\n",
       "      <td>10</td>\n",
       "      <td>8</td>\n",
       "      <td>24.95</td>\n",
       "      <td>Ayana</td>\n",
       "      <td>Mathis</td>\n",
       "      <td>Neither</td>\n",
       "    </tr>\n",
       "    <tr>\n",
       "      <th>1982</th>\n",
       "      <td>http://www.amazon.com/Night-Ranger-John-Wells-...</td>\n",
       "      <td>Alex Berenson</td>\n",
       "      <td>The former C.I.A. operative John Wells pitches...</td>\n",
       "      <td>Putnam</td>\n",
       "      <td>the night ranger</td>\n",
       "      <td>5b4aa4ead3089013507dc4e0</td>\n",
       "      <td>2013-02-16</td>\n",
       "      <td>2013-03-03</td>\n",
       "      <td>10</td>\n",
       "      <td>0</td>\n",
       "      <td>1</td>\n",
       "      <td>27.95</td>\n",
       "      <td>Alex</td>\n",
       "      <td>Berenson</td>\n",
       "      <td>Neither</td>\n",
       "    </tr>\n",
       "    <tr>\n",
       "      <th>1985</th>\n",
       "      <td>http://www.amazon.com/Twelve-Digital-Edition-V...</td>\n",
       "      <td>Ayana Mathis</td>\n",
       "      <td>Fifty-some years in the life of an African-Ame...</td>\n",
       "      <td>Knopf</td>\n",
       "      <td>the twelve tribes of hattie</td>\n",
       "      <td>5b4aa4ead3089013507dc4e4</td>\n",
       "      <td>2013-02-16</td>\n",
       "      <td>2013-03-03</td>\n",
       "      <td>14</td>\n",
       "      <td>9</td>\n",
       "      <td>10</td>\n",
       "      <td>24.95</td>\n",
       "      <td>Ayana</td>\n",
       "      <td>Mathis</td>\n",
       "      <td>Neither</td>\n",
       "    </tr>\n",
       "  </tbody>\n",
       "</table>\n",
       "<p>85 rows × 15 columns</p>\n",
       "</div>"
      ],
      "text/plain": [
       "                                     amazon_product_url           author  \\\n",
       "109   http://www.amazon.com/The-Gargoyle-Andrew-Davi...  Andrew Davidson   \n",
       "119   http://www.amazon.com/The-Gargoyle-Andrew-Davi...  Andrew Davidson   \n",
       "126   http://www.amazon.com/The-Gargoyle-Andrew-Davi...  Andrew Davidson   \n",
       "202   http://www.amazon.com/Testimony-A-Novel-Anita-...     Anita Shreve   \n",
       "211   http://www.amazon.com/Testimony-A-Novel-Anita-...     Anita Shreve   \n",
       "...                                                 ...              ...   \n",
       "1948  http://www.amazon.com/Twelve-Digital-Edition-V...     Ayana Mathis   \n",
       "1958  http://www.amazon.com/Twelve-Digital-Edition-V...     Ayana Mathis   \n",
       "1969  http://www.amazon.com/Twelve-Digital-Edition-V...     Ayana Mathis   \n",
       "1982  http://www.amazon.com/Night-Ranger-John-Wells-...    Alex Berenson   \n",
       "1985  http://www.amazon.com/Twelve-Digital-Edition-V...     Ayana Mathis   \n",
       "\n",
       "                                            description      publisher  \\\n",
       "109   A hideously burned man is cared for by a sculp...      Doubleday   \n",
       "119   A hideously burned man is cared for by a sculp...      Doubleday   \n",
       "126   A hideously burned man is cared for by a sculp...      Doubleday   \n",
       "202   A sex scandal at a Vermont prep school is caug...  Little, Brown   \n",
       "211   A sex scandal at a Vermont prep school is caug...  Little, Brown   \n",
       "...                                                 ...            ...   \n",
       "1948  Fifty-some years in the life of an African-Ame...          Knopf   \n",
       "1958  Fifty-some years in the life of an African-Ame...          Knopf   \n",
       "1969  Fifty-some years in the life of an African-Ame...          Knopf   \n",
       "1982  The former C.I.A. operative John Wells pitches...         Putnam   \n",
       "1985  Fifty-some years in the life of an African-Ame...          Knopf   \n",
       "\n",
       "                            title                       oid bestsellers_date  \\\n",
       "109                  the gargoyle  5b4aa4ead3089013507db274       2008-08-09   \n",
       "119                  the gargoyle  5b4aa4ead3089013507db28a       2008-08-16   \n",
       "126                  the gargoyle  5b4aa4ead3089013507db29b       2008-08-23   \n",
       "202                     testimony  5b4aa4ead3089013507db34a       2008-10-25   \n",
       "211                     testimony  5b4aa4ead3089013507db35f       2008-11-01   \n",
       "...                           ...                       ...              ...   \n",
       "1948  the twelve tribes of hattie  5b4aa4ead3089013507dc48e       2013-01-19   \n",
       "1958  the twelve tribes of hattie  5b4aa4ead3089013507dc4a4       2013-01-26   \n",
       "1969  the twelve tribes of hattie  5b4aa4ead3089013507dc4bc       2013-02-02   \n",
       "1982             the night ranger  5b4aa4ead3089013507dc4e0       2013-02-16   \n",
       "1985  the twelve tribes of hattie  5b4aa4ead3089013507dc4e4       2013-02-16   \n",
       "\n",
       "     published_date  rank  rank_last_week  weeks_on_list  price  \\\n",
       "109      2008-08-24    14               0              1  25.95   \n",
       "119      2008-08-31    16              14              2  25.95   \n",
       "126      2008-09-07    13              16              3  25.95   \n",
       "202      2008-11-09     8               0              1  25.99   \n",
       "211      2008-11-16     9               8              2  25.99   \n",
       "...             ...   ...             ...            ...    ...   \n",
       "1948     2013-02-03     8               7              6  24.95   \n",
       "1958     2013-02-10    10               8              7  24.95   \n",
       "1969     2013-02-17    14              10              8  24.95   \n",
       "1982     2013-03-03    10               0              1  27.95   \n",
       "1985     2013-03-03    14               9             10  24.95   \n",
       "\n",
       "     author_first_name author_last_name gender_in_description  \n",
       "109             Andrew         Davidson                   Men  \n",
       "119             Andrew         Davidson                   Men  \n",
       "126             Andrew         Davidson                   Men  \n",
       "202              Anita           Shreve               Neither  \n",
       "211              Anita           Shreve               Neither  \n",
       "...                ...              ...                   ...  \n",
       "1948             Ayana           Mathis               Neither  \n",
       "1958             Ayana           Mathis               Neither  \n",
       "1969             Ayana           Mathis               Neither  \n",
       "1982              Alex         Berenson               Neither  \n",
       "1985             Ayana           Mathis               Neither  \n",
       "\n",
       "[85 rows x 15 columns]"
      ]
     },
     "execution_count": 65,
     "metadata": {},
     "output_type": "execute_result"
    }
   ],
   "source": [
    "#Ejemplo: \n",
    "#Filtro donde el nombre en la columna author_first_name empiece con la letra 'A':\n",
    "df[df['author_first_name'].str.startswith('A')]"
   ]
  },
  {
   "cell_type": "code",
   "execution_count": 66,
   "metadata": {},
   "outputs": [
    {
     "data": {
      "text/html": [
       "<div>\n",
       "<style scoped>\n",
       "    .dataframe tbody tr th:only-of-type {\n",
       "        vertical-align: middle;\n",
       "    }\n",
       "\n",
       "    .dataframe tbody tr th {\n",
       "        vertical-align: top;\n",
       "    }\n",
       "\n",
       "    .dataframe thead th {\n",
       "        text-align: right;\n",
       "    }\n",
       "</style>\n",
       "<table border=\"1\" class=\"dataframe\">\n",
       "  <thead>\n",
       "    <tr style=\"text-align: right;\">\n",
       "      <th></th>\n",
       "      <th>amazon_product_url</th>\n",
       "      <th>author</th>\n",
       "      <th>description</th>\n",
       "      <th>publisher</th>\n",
       "      <th>title</th>\n",
       "      <th>oid</th>\n",
       "      <th>bestsellers_date</th>\n",
       "      <th>published_date</th>\n",
       "      <th>rank</th>\n",
       "      <th>rank_last_week</th>\n",
       "      <th>weeks_on_list</th>\n",
       "      <th>price</th>\n",
       "      <th>author_first_name</th>\n",
       "      <th>author_last_name</th>\n",
       "      <th>gender_in_description</th>\n",
       "    </tr>\n",
       "  </thead>\n",
       "  <tbody>\n",
       "    <tr>\n",
       "      <th>0</th>\n",
       "      <td>http://www.amazon.com/The-Host-Novel-Stephenie...</td>\n",
       "      <td>Stephenie Meyer</td>\n",
       "      <td>Aliens have taken control of the minds and bod...</td>\n",
       "      <td>Little, Brown</td>\n",
       "      <td>the host</td>\n",
       "      <td>5b4aa4ead3089013507db18c</td>\n",
       "      <td>2008-05-24</td>\n",
       "      <td>2008-06-08</td>\n",
       "      <td>2</td>\n",
       "      <td>1</td>\n",
       "      <td>3</td>\n",
       "      <td>25.99</td>\n",
       "      <td>Stephenie</td>\n",
       "      <td>Meyer</td>\n",
       "      <td>Women</td>\n",
       "    </tr>\n",
       "    <tr>\n",
       "      <th>1</th>\n",
       "      <td>http://www.amazon.com/Love-Youre-With-Emily-Gi...</td>\n",
       "      <td>Emily Giffin</td>\n",
       "      <td>A woman's happy marriage is shaken when she en...</td>\n",
       "      <td>St. Martin's</td>\n",
       "      <td>love the one you're with</td>\n",
       "      <td>5b4aa4ead3089013507db18d</td>\n",
       "      <td>2008-05-24</td>\n",
       "      <td>2008-06-08</td>\n",
       "      <td>3</td>\n",
       "      <td>2</td>\n",
       "      <td>2</td>\n",
       "      <td>24.95</td>\n",
       "      <td>Emily</td>\n",
       "      <td>Giffin</td>\n",
       "      <td>Neither</td>\n",
       "    </tr>\n",
       "    <tr>\n",
       "      <th>2</th>\n",
       "      <td>http://www.amazon.com/The-Front-Garano-Patrici...</td>\n",
       "      <td>Patricia Cornwell</td>\n",
       "      <td>A Massachusetts state investigator and his tea...</td>\n",
       "      <td>Putnam</td>\n",
       "      <td>the front</td>\n",
       "      <td>5b4aa4ead3089013507db18e</td>\n",
       "      <td>2008-05-24</td>\n",
       "      <td>2008-06-08</td>\n",
       "      <td>4</td>\n",
       "      <td>0</td>\n",
       "      <td>1</td>\n",
       "      <td>22.95</td>\n",
       "      <td>Patricia</td>\n",
       "      <td>Cornwell</td>\n",
       "      <td>Neither</td>\n",
       "    </tr>\n",
       "    <tr>\n",
       "      <th>3</th>\n",
       "      <td>http://www.amazon.com/Snuff-Chuck-Palahniuk/dp...</td>\n",
       "      <td>Chuck Palahniuk</td>\n",
       "      <td>An aging porn queens aims to cap her career by...</td>\n",
       "      <td>Doubleday</td>\n",
       "      <td>snuff</td>\n",
       "      <td>5b4aa4ead3089013507db18f</td>\n",
       "      <td>2008-05-24</td>\n",
       "      <td>2008-06-08</td>\n",
       "      <td>5</td>\n",
       "      <td>0</td>\n",
       "      <td>1</td>\n",
       "      <td>24.95</td>\n",
       "      <td>Chuck</td>\n",
       "      <td>Palahniuk</td>\n",
       "      <td>Men</td>\n",
       "    </tr>\n",
       "    <tr>\n",
       "      <th>4</th>\n",
       "      <td>http://www.amazon.com/Phantom-Prey-John-Sandfo...</td>\n",
       "      <td>John Sandford</td>\n",
       "      <td>The Minneapolis detective Lucas Davenport inve...</td>\n",
       "      <td>Putnam</td>\n",
       "      <td>phantom prey</td>\n",
       "      <td>5b4aa4ead3089013507db191</td>\n",
       "      <td>2008-05-24</td>\n",
       "      <td>2008-06-08</td>\n",
       "      <td>7</td>\n",
       "      <td>4</td>\n",
       "      <td>3</td>\n",
       "      <td>26.95</td>\n",
       "      <td>John</td>\n",
       "      <td>Sandford</td>\n",
       "      <td>Neither</td>\n",
       "    </tr>\n",
       "    <tr>\n",
       "      <th>...</th>\n",
       "      <td>...</td>\n",
       "      <td>...</td>\n",
       "      <td>...</td>\n",
       "      <td>...</td>\n",
       "      <td>...</td>\n",
       "      <td>...</td>\n",
       "      <td>...</td>\n",
       "      <td>...</td>\n",
       "      <td>...</td>\n",
       "      <td>...</td>\n",
       "      <td>...</td>\n",
       "      <td>...</td>\n",
       "      <td>...</td>\n",
       "      <td>...</td>\n",
       "      <td>...</td>\n",
       "    </tr>\n",
       "    <tr>\n",
       "      <th>2041</th>\n",
       "      <td>http://www.amazon.com/Unintended-Consequences-...</td>\n",
       "      <td>Stuart Woods</td>\n",
       "      <td>The New York lawyer Stone Barrington discovers...</td>\n",
       "      <td>Putnam</td>\n",
       "      <td>unintended consequences</td>\n",
       "      <td>5b4aa4ead3089013507dc592</td>\n",
       "      <td>2013-04-20</td>\n",
       "      <td>2013-05-05</td>\n",
       "      <td>8</td>\n",
       "      <td>4</td>\n",
       "      <td>2</td>\n",
       "      <td>26.95</td>\n",
       "      <td>Stuart</td>\n",
       "      <td>Woods</td>\n",
       "      <td>Neither</td>\n",
       "    </tr>\n",
       "    <tr>\n",
       "      <th>2042</th>\n",
       "      <td>http://www.amazon.com/Six-Years-Harlan-Coben/d...</td>\n",
       "      <td>Harlan Coben</td>\n",
       "      <td>Jake Fisher discovers that neither the woman h...</td>\n",
       "      <td>Dutton</td>\n",
       "      <td>six years</td>\n",
       "      <td>5b4aa4ead3089013507dc593</td>\n",
       "      <td>2013-04-20</td>\n",
       "      <td>2013-05-05</td>\n",
       "      <td>9</td>\n",
       "      <td>8</td>\n",
       "      <td>5</td>\n",
       "      <td>27.95</td>\n",
       "      <td>Harlan</td>\n",
       "      <td>Coben</td>\n",
       "      <td>Women</td>\n",
       "    </tr>\n",
       "    <tr>\n",
       "      <th>2043</th>\n",
       "      <td>http://www.amazon.com/The-Interestings-Novel-M...</td>\n",
       "      <td>Meg Wolitzer</td>\n",
       "      <td>Six friends meet in the 1970s at a summer arts...</td>\n",
       "      <td>Riverhead</td>\n",
       "      <td>the interestings</td>\n",
       "      <td>5b4aa4ead3089013507dc595</td>\n",
       "      <td>2013-04-20</td>\n",
       "      <td>2013-05-05</td>\n",
       "      <td>11</td>\n",
       "      <td>11</td>\n",
       "      <td>2</td>\n",
       "      <td>27.95</td>\n",
       "      <td>Meg</td>\n",
       "      <td>Wolitzer</td>\n",
       "      <td>Neither</td>\n",
       "    </tr>\n",
       "    <tr>\n",
       "      <th>2044</th>\n",
       "      <td>http://www.amazon.com/Man-Without-Breath-Berni...</td>\n",
       "      <td>Philip Kerr</td>\n",
       "      <td>Bernie Gunther, the Berlin cop, is sent to Smo...</td>\n",
       "      <td>Marian Wood/Putnam</td>\n",
       "      <td>a man without breath</td>\n",
       "      <td>5b4aa4ead3089013507dc597</td>\n",
       "      <td>2013-04-20</td>\n",
       "      <td>2013-05-05</td>\n",
       "      <td>13</td>\n",
       "      <td>0</td>\n",
       "      <td>1</td>\n",
       "      <td>26.95</td>\n",
       "      <td>Philip</td>\n",
       "      <td>Kerr</td>\n",
       "      <td>Neither</td>\n",
       "    </tr>\n",
       "    <tr>\n",
       "      <th>2045</th>\n",
       "      <td>http://www.amazon.com/The-Storyteller-Jodi-Pic...</td>\n",
       "      <td>Jodi Picoult</td>\n",
       "      <td>A New Hampshire baker finds herself in the mid...</td>\n",
       "      <td>Emily Bestler/Atria</td>\n",
       "      <td>the storyteller</td>\n",
       "      <td>5b4aa4ead3089013507dc598</td>\n",
       "      <td>2013-04-20</td>\n",
       "      <td>2013-05-05</td>\n",
       "      <td>14</td>\n",
       "      <td>10</td>\n",
       "      <td>8</td>\n",
       "      <td>28.99</td>\n",
       "      <td>Jodi</td>\n",
       "      <td>Picoult</td>\n",
       "      <td>Neither</td>\n",
       "    </tr>\n",
       "  </tbody>\n",
       "</table>\n",
       "<p>2027 rows × 15 columns</p>\n",
       "</div>"
      ],
      "text/plain": [
       "                                     amazon_product_url             author  \\\n",
       "0     http://www.amazon.com/The-Host-Novel-Stephenie...    Stephenie Meyer   \n",
       "1     http://www.amazon.com/Love-Youre-With-Emily-Gi...       Emily Giffin   \n",
       "2     http://www.amazon.com/The-Front-Garano-Patrici...  Patricia Cornwell   \n",
       "3     http://www.amazon.com/Snuff-Chuck-Palahniuk/dp...    Chuck Palahniuk   \n",
       "4     http://www.amazon.com/Phantom-Prey-John-Sandfo...      John Sandford   \n",
       "...                                                 ...                ...   \n",
       "2041  http://www.amazon.com/Unintended-Consequences-...       Stuart Woods   \n",
       "2042  http://www.amazon.com/Six-Years-Harlan-Coben/d...       Harlan Coben   \n",
       "2043  http://www.amazon.com/The-Interestings-Novel-M...       Meg Wolitzer   \n",
       "2044  http://www.amazon.com/Man-Without-Breath-Berni...        Philip Kerr   \n",
       "2045  http://www.amazon.com/The-Storyteller-Jodi-Pic...       Jodi Picoult   \n",
       "\n",
       "                                            description            publisher  \\\n",
       "0     Aliens have taken control of the minds and bod...        Little, Brown   \n",
       "1     A woman's happy marriage is shaken when she en...         St. Martin's   \n",
       "2     A Massachusetts state investigator and his tea...               Putnam   \n",
       "3     An aging porn queens aims to cap her career by...            Doubleday   \n",
       "4     The Minneapolis detective Lucas Davenport inve...               Putnam   \n",
       "...                                                 ...                  ...   \n",
       "2041  The New York lawyer Stone Barrington discovers...               Putnam   \n",
       "2042  Jake Fisher discovers that neither the woman h...               Dutton   \n",
       "2043  Six friends meet in the 1970s at a summer arts...            Riverhead   \n",
       "2044  Bernie Gunther, the Berlin cop, is sent to Smo...   Marian Wood/Putnam   \n",
       "2045  A New Hampshire baker finds herself in the mid...  Emily Bestler/Atria   \n",
       "\n",
       "                         title                       oid bestsellers_date  \\\n",
       "0                     the host  5b4aa4ead3089013507db18c       2008-05-24   \n",
       "1     love the one you're with  5b4aa4ead3089013507db18d       2008-05-24   \n",
       "2                    the front  5b4aa4ead3089013507db18e       2008-05-24   \n",
       "3                        snuff  5b4aa4ead3089013507db18f       2008-05-24   \n",
       "4                 phantom prey  5b4aa4ead3089013507db191       2008-05-24   \n",
       "...                        ...                       ...              ...   \n",
       "2041   unintended consequences  5b4aa4ead3089013507dc592       2013-04-20   \n",
       "2042                 six years  5b4aa4ead3089013507dc593       2013-04-20   \n",
       "2043          the interestings  5b4aa4ead3089013507dc595       2013-04-20   \n",
       "2044      a man without breath  5b4aa4ead3089013507dc597       2013-04-20   \n",
       "2045           the storyteller  5b4aa4ead3089013507dc598       2013-04-20   \n",
       "\n",
       "     published_date  rank  rank_last_week  weeks_on_list  price  \\\n",
       "0        2008-06-08     2               1              3  25.99   \n",
       "1        2008-06-08     3               2              2  24.95   \n",
       "2        2008-06-08     4               0              1  22.95   \n",
       "3        2008-06-08     5               0              1  24.95   \n",
       "4        2008-06-08     7               4              3  26.95   \n",
       "...             ...   ...             ...            ...    ...   \n",
       "2041     2013-05-05     8               4              2  26.95   \n",
       "2042     2013-05-05     9               8              5  27.95   \n",
       "2043     2013-05-05    11              11              2  27.95   \n",
       "2044     2013-05-05    13               0              1  26.95   \n",
       "2045     2013-05-05    14              10              8  28.99   \n",
       "\n",
       "     author_first_name author_last_name gender_in_description  \n",
       "0            Stephenie            Meyer                 Women  \n",
       "1                Emily           Giffin               Neither  \n",
       "2             Patricia         Cornwell               Neither  \n",
       "3                Chuck        Palahniuk                   Men  \n",
       "4                 John         Sandford               Neither  \n",
       "...                ...              ...                   ...  \n",
       "2041            Stuart            Woods               Neither  \n",
       "2042            Harlan            Coben                 Women  \n",
       "2043               Meg         Wolitzer               Neither  \n",
       "2044            Philip             Kerr               Neither  \n",
       "2045              Jodi          Picoult               Neither  \n",
       "\n",
       "[2027 rows x 15 columns]"
      ]
     },
     "execution_count": 66,
     "metadata": {},
     "output_type": "execute_result"
    }
   ],
   "source": [
    "#Ejemplo:\n",
    "#Filtro donde el valor de la columa 'price' sea mayor a 20\n",
    "df[df['price'] > 20]"
   ]
  },
  {
   "cell_type": "markdown",
   "metadata": {},
   "source": []
  }
 ],
 "metadata": {
  "kernelspec": {
   "display_name": "Python 3",
   "language": "python",
   "name": "python3"
  },
  "language_info": {
   "codemirror_mode": {
    "name": "ipython",
    "version": 3
   },
   "file_extension": ".py",
   "mimetype": "text/x-python",
   "name": "python",
   "nbconvert_exporter": "python",
   "pygments_lexer": "ipython3",
   "version": "3.10.5"
  }
 },
 "nbformat": 4,
 "nbformat_minor": 2
}
